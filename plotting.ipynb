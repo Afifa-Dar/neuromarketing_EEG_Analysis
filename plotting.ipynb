{
 "cells": [
  {
   "cell_type": "code",
   "execution_count": 1,
   "id": "df5ec056",
   "metadata": {},
   "outputs": [],
   "source": [
    "import os\n",
    "import pandas as pd\n",
    "import numpy as np\n",
    "import matplotlib.pyplot as plt"
   ]
  },
  {
   "cell_type": "code",
   "execution_count": 2,
   "id": "b712f1f5",
   "metadata": {},
   "outputs": [],
   "source": [
    "channels = [f'ch_{i}' for i in range(1,15)]"
   ]
  },
  {
   "cell_type": "code",
   "execution_count": null,
   "id": "012c7a27",
   "metadata": {},
   "outputs": [],
   "source": []
  },
  {
   "cell_type": "code",
   "execution_count": 3,
   "id": "4ec68fe8",
   "metadata": {},
   "outputs": [],
   "source": [
    "def plot(data,data_name):\n",
    "    plt.figure(figsize=(30,30))\n",
    "    fs = 128\n",
    "    time = [i/fs for i in range(len(data))]\n",
    "    for i , j in enumerate(channels , 1):\n",
    "        plt.subplot(4,4,i)\n",
    "        plt.plot(time , data[j])\n",
    "        plt.xlabel('time_series')\n",
    "        plt.ylabel('Amplitude \\n uV')\n",
    "        plt.title(f'{j} data')\n",
    "        plt.savefig(f'{data_name}.png')"
   ]
  },
  {
   "cell_type": "code",
   "execution_count": null,
   "id": "498e5d75",
   "metadata": {},
   "outputs": [
    {
     "name": "stderr",
     "output_type": "stream",
     "text": [
      "C:\\Users\\ADMINI~1\\AppData\\Local\\Temp/ipykernel_9872/235269567.py:2: RuntimeWarning: More than 20 figures have been opened. Figures created through the pyplot interface (`matplotlib.pyplot.figure`) are retained until explicitly closed and may consume too much memory. (To control this warning, see the rcParam `figure.max_open_warning`).\n",
      "  plt.figure(figsize=(30,30))\n"
     ]
    }
   ],
   "source": [
    "directory = 'datasets/'\n",
    "for i in os.listdir(directory):\n",
    "    data = pd.read_csv(f'{directory}{i}')\n",
    "    label = data['label'][0]\n",
    "    if label == 'Like':\n",
    "        name = f'plots/raw/like/{i[:-4]}'\n",
    "       \n",
    "    else:\n",
    "        name = f'plots/raw/dislike/{i[:-4]}'\n",
    "    plot(data,name)  "
   ]
  },
  {
   "cell_type": "code",
   "execution_count": null,
   "id": "22487154",
   "metadata": {},
   "outputs": [],
   "source": []
  }
 ],
 "metadata": {
  "kernelspec": {
   "display_name": "Python 3 (ipykernel)",
   "language": "python",
   "name": "python3"
  },
  "language_info": {
   "codemirror_mode": {
    "name": "ipython",
    "version": 3
   },
   "file_extension": ".py",
   "mimetype": "text/x-python",
   "name": "python",
   "nbconvert_exporter": "python",
   "pygments_lexer": "ipython3",
   "version": "3.9.7"
  }
 },
 "nbformat": 4,
 "nbformat_minor": 5
}
