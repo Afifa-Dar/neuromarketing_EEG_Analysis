{
 "cells": [
  {
   "cell_type": "code",
   "execution_count": 1,
   "id": "917cf8ec",
   "metadata": {},
   "outputs": [],
   "source": [
    "import pandas as pd\n",
    "import numpy as np\n",
    "import os"
   ]
  },
  {
   "cell_type": "code",
   "execution_count": 2,
   "id": "f96d022a",
   "metadata": {},
   "outputs": [],
   "source": [
    "channels = [f'ch_{i}' for i in range(1,15) ]\n",
    "\n"
   ]
  },
  {
   "cell_type": "code",
   "execution_count": 3,
   "id": "aae67bea",
   "metadata": {},
   "outputs": [],
   "source": [
    "dislike_range = {\n",
    "                \"ch_1\" : [-150,150] ,\n",
    "                 'ch_2':[-100 , 100] , \n",
    "                 'ch_3':[-100 , 100],\n",
    "                 'ch_4':[-100 , 100],\n",
    "                 'ch_5':[-20,20],\n",
    "                 'ch_6':[-120 , 120] ,\n",
    "                 'ch_7':[-150 , 150] ,\n",
    "                 'ch_8': [-140 ,140 ] , \n",
    "                 'ch_9':[-150, 150] , \n",
    "                 'ch_10':[-20 ,20] , \n",
    "                 'ch_11':[-130 ,130] , \n",
    "                 'ch_12':[-100 , 100] , \n",
    "                 'ch_13':[-100 , 100] , \n",
    "                 'ch_14':[-100 , 100]\n",
    "}\n",
    "like_range = {\n",
    "                \"ch_1\" : [-60,60] ,\n",
    "                 'ch_2':[-60 , 60] , \n",
    "                 'ch_3':[-100 , 100],\n",
    "                 'ch_4':[-50 , 50],\n",
    "                 'ch_5':[-10,10],\n",
    "                 'ch_6':[-50 , 50] ,\n",
    "                 'ch_7':[-50 , 50] ,\n",
    "                 'ch_8': [-40 ,40 ] , \n",
    "                 'ch_9':[-50, 50] , \n",
    "                 'ch_10':[-10 ,10] , \n",
    "                 'ch_11':[-50 ,50] , \n",
    "                 'ch_12':[-50 , 50] , \n",
    "                 'ch_13':[-50 , 50] , \n",
    "                 'ch_14':[-40 , 40]\n",
    "}\n"
   ]
  },
  {
   "cell_type": "code",
   "execution_count": 35,
   "id": "29a979eb",
   "metadata": {},
   "outputs": [],
   "source": [
    "directory = 'clean_data/'\n",
    "\n",
    "modified_data = pd.DataFrame()\n",
    "count = 0\n",
    "for i in os.listdir(directory):\n",
    "    data = pd.read_csv(f'{directory}{i}')\n",
    "    label = data['label'][0]\n",
    "    for ch in channels:\n",
    "        if label == 'Like':\n",
    "            rng = like_range[ch]\n",
    "        else:\n",
    "            rng = dislike_range[ch]\n",
    "        data.loc[(data[ch] < rng[0]) | (data[ch] > rng[1]),ch] = np.nan\n",
    "        data[ch].replace(\n",
    "            to_replace=np.nan,\n",
    "            value=data[ch].mean() ,inplace=True)\n",
    "    data.to_csv(f'modified_data/{i[:-4]}.csv' , index = False)"
   ]
  },
  {
   "cell_type": "code",
   "execution_count": null,
   "id": "4d76ff3e",
   "metadata": {},
   "outputs": [],
   "source": []
  },
  {
   "cell_type": "code",
   "execution_count": null,
   "id": "8a27bb06",
   "metadata": {},
   "outputs": [],
   "source": []
  }
 ],
 "metadata": {
  "kernelspec": {
   "display_name": "Python 3 (ipykernel)",
   "language": "python",
   "name": "python3"
  },
  "language_info": {
   "codemirror_mode": {
    "name": "ipython",
    "version": 3
   },
   "file_extension": ".py",
   "mimetype": "text/x-python",
   "name": "python",
   "nbconvert_exporter": "python",
   "pygments_lexer": "ipython3",
   "version": "3.11.3"
  }
 },
 "nbformat": 4,
 "nbformat_minor": 5
}
