{
 "cells": [
  {
   "cell_type": "code",
   "execution_count": 11,
   "id": "5af0fd3f",
   "metadata": {},
   "outputs": [],
   "source": [
    "import os\n",
    "import numpy as np\n",
    "import pandas as pd"
   ]
  },
  {
   "cell_type": "code",
   "execution_count": 12,
   "id": "0a60c478",
   "metadata": {},
   "outputs": [],
   "source": [
    "from sklearn.model_selection import train_test_split\n",
    "import tensorflow as tf\n",
    "from keras.models import Sequential\n",
    "from keras.layers import Conv2D, MaxPooling2D, Flatten, Dense, Dropout\n",
    "from tensorflow.keras import layers, regularizers\n",
    "from sklearn.model_selection import StratifiedKFold\n",
    "import matplotlib.pyplot as plt\n",
    "from tensorflow import keras"
   ]
  },
  {
   "cell_type": "code",
   "execution_count": 13,
   "id": "1820867b",
   "metadata": {},
   "outputs": [],
   "source": [
    "directory = 'psd/'\n",
    "\n",
    "eeg_data = []\n",
    "labels = []\n",
    "for filename in os.scandir(directory):\n",
    "    data = pd.read_csv(filename.path)\n",
    "    if (data[\"label\"][0] == 'Like'):\n",
    "        labels.append(0)\n",
    "    else:\n",
    "        labels.append(1)\n",
    "    eeg_data.append(data.drop(['label'] , axis = 1))\n",
    "    "
   ]
  },
  {
   "cell_type": "code",
   "execution_count": null,
   "id": "a3629909",
   "metadata": {},
   "outputs": [],
   "source": [
    "labels = np.array(labels)\n",
    "eeg_data = np.array(eeg_data)\n",
    "print(len(labels) , eeg_data.shape)"
   ]
  },
  {
   "cell_type": "code",
   "execution_count": null,
   "id": "61cd7611",
   "metadata": {},
   "outputs": [],
   "source": [
    "test_data = eeg_data[:83]\n",
    "test_label = labels[:83]\n",
    "\n",
    "eeg_data = eeg_data[83:]\n",
    "labels = labels[83:]"
   ]
  },
  {
   "cell_type": "code",
   "execution_count": null,
   "id": "ece0b40d",
   "metadata": {},
   "outputs": [],
   "source": [
    "eeg_data.shape"
   ]
  },
  {
   "cell_type": "code",
   "execution_count": null,
   "id": "e481515f",
   "metadata": {},
   "outputs": [],
   "source": [
    "# Set input shape for CNN\n",
    "def init_model(): \n",
    "    input_shape = (257,14,1)\n",
    "\n",
    "    # Define CNN model architecture\n",
    "    model = Sequential()\n",
    "\n",
    "    model.add(layers.Conv2D(32, kernel_size=(3, 3), activation='relu' , input_shape = input_shape))\n",
    "    model.add(layers.BatchNormalization())\n",
    "    model.add(MaxPooling2D(pool_size=(2, 2)))\n",
    "\n",
    "    model.add(layers.Conv2D(32, kernel_size=(3, 3), activation='relu'))\n",
    "    model.add(layers.BatchNormalization())\n",
    "    model.add(MaxPooling2D(pool_size=(2, 2)))\n",
    "\n",
    "    model.add(Dropout(0.3))\n",
    "    model.add(Flatten())\n",
    "\n",
    "    model.add(Dense(164, activation='relu'))\n",
    "    model.add(Dropout(0.3))\n",
    "\n",
    "    model.add(Dense(2, activation='softmax'))\n",
    "    \n",
    "    #compile model\n",
    "    model.compile(keras.optimizers.Adam(learning_rate = 0.0001),\n",
    "              loss='sparse_categorical_crossentropy',\n",
    "              metrics=['accuracy'])\n",
    "    \n",
    "    #return model\n",
    "    return model"
   ]
  },
  {
   "cell_type": "code",
   "execution_count": null,
   "id": "f473df92",
   "metadata": {},
   "outputs": [],
   "source": [
    "kfold = StratifiedKFold(n_splits=5, shuffle=False)\n",
    "k_fold = list(kfold.split(eeg_data , labels))\n"
   ]
  },
  {
   "cell_type": "code",
   "execution_count": null,
   "id": "fd1121a8",
   "metadata": {},
   "outputs": [],
   "source": [
    "folds = []"
   ]
  },
  {
   "cell_type": "code",
   "execution_count": null,
   "id": "6d38f783",
   "metadata": {
    "scrolled": true
   },
   "outputs": [],
   "source": [
    "testing_scores = []\n",
    "training_score = []\n",
    "for train_indices, test_indices in k_fold:\n",
    "    \n",
    "    X_train, X_test = eeg_data[train_indices], eeg_data[test_indices]\n",
    "    y_train, y_test = labels[train_indices], labels[test_indices]\n",
    "    \n",
    "#     train_0, train_1 = len(y_train[y_train==0]), len(y_train[y_train==1])\n",
    "#     test_0, test_1 = len(y_val[y_val==0]), len(y_val[y_val==1])\n",
    "#     print('>Train: 0=%d, 1=%d, Test: 0=%d, 1=%d' % (train_0, train_1, test_0, test_1))\n",
    "    \n",
    "    model = init_model()\n",
    "    # Train the model on the training data for this fold\n",
    "    history = model.fit(X_train, y_train, epochs = 200 , batch_size = 16)\n",
    "    \n",
    "    training_score.append(history.history['accuracy'][-1] * 100)\n",
    "    folds.append(history)\n",
    "    \n",
    "    # Evaluate the model on the validation data for this fold\n",
    "    score = model.evaluate(X_test, y_test)\n",
    "    testing_scores.append(score[1] * 100)\n"
   ]
  },
  {
   "cell_type": "code",
   "execution_count": null,
   "id": "3a640644",
   "metadata": {},
   "outputs": [],
   "source": [
    "testing_scores"
   ]
  },
  {
   "cell_type": "code",
   "execution_count": null,
   "id": "ee878020",
   "metadata": {},
   "outputs": [],
   "source": [
    "training_score "
   ]
  },
  {
   "cell_type": "code",
   "execution_count": null,
   "id": "510f6835",
   "metadata": {
    "scrolled": true
   },
   "outputs": [],
   "source": [
    "avg_score = sum(testing_scores) / len(testing_scores)\n",
    "print('Average testing score:', avg_score)"
   ]
  },
  {
   "cell_type": "code",
   "execution_count": null,
   "id": "736c8cd5",
   "metadata": {},
   "outputs": [],
   "source": [
    "# c = 1\n",
    "# co = 0\n",
    "# for i in folds:\n",
    "#     plt.figure(figsize = (12,8))\n",
    "#     plt.subplot(5,1,c)\n",
    "#     plt.plot(i.history['accuracy'], label='val_accuracy')\n",
    "# #     plt.plot(i.history['val_accuracy'], label = 'val_accuracy')\n",
    "#     plt.xlabel('Epoch')\n",
    "#     plt.ylabel('Accuracy')\n",
    "#     plt.ylim([0.5, 1])\n",
    "#     plt.legend(loc='lower right')\n",
    "#     c+=1\n",
    "#     co+=1"
   ]
  },
  {
   "cell_type": "code",
   "execution_count": null,
   "id": "56b8ebbf",
   "metadata": {},
   "outputs": [],
   "source": [
    "x = ['1st_fold' , '2nd_fold' , '3rd_fold' , '4th_fold' , '5th_fold']\n",
    "barWidth = 0.25\n",
    "fig = plt.subplots(figsize =(12, 8))\n",
    "br1 = np.arange(len(x))\n",
    "br2 = [x + barWidth for x in br1]\n",
    "plt.bar(br1  , training_score , color = \"c\" , label = \"training accuracy\" ,width = barWidth)\n",
    "plt.bar(br2 , testing_scores , color = \"y\" , label = \"testing accuracy\" , width = barWidth)\n",
    "plt.xlabel('folds', fontweight ='bold', fontsize = 15)\n",
    "plt.ylabel('accuracies', fontweight ='bold', fontsize = 15)\n",
    "plt.xticks([r + barWidth for r in range(len(x))],x)\n",
    " \n",
    "plt.legend()\n",
    "plt.show()"
   ]
  },
  {
   "cell_type": "markdown",
   "id": "c3aad13c",
   "metadata": {},
   "source": [
    "# ensambled the models"
   ]
  },
  {
   "cell_type": "code",
   "execution_count": null,
   "id": "6e4eec2c",
   "metadata": {},
   "outputs": [],
   "source": [
    "y_pred = []\n",
    "for data in test_data:\n",
    "    res= []\n",
    "    for modl in folds:\n",
    "        res.append(np.argmax(modl.model.predict(np.array([data , ]))))\n",
    "    print(res)\n",
    "    \n",
    "    if res.count(0) > res.count(1):\n",
    "        y_pred.append(0)\n",
    "    else:\n",
    "        y_pred.append(1)\n",
    "        \n",
    "           \n",
    "        "
   ]
  },
  {
   "cell_type": "markdown",
   "id": "c8db5c49",
   "metadata": {},
   "source": [
    "# Evaluate ensambeled Model"
   ]
  },
  {
   "cell_type": "code",
   "execution_count": null,
   "id": "53bb719b",
   "metadata": {},
   "outputs": [],
   "source": [
    "import seaborn as sns\n",
    "from sklearn.metrics import confusion_matrix \n",
    "import matplotlib.pyplot as plt"
   ]
  },
  {
   "cell_type": "code",
   "execution_count": null,
   "id": "14b42345",
   "metadata": {},
   "outputs": [],
   "source": [
    "cm = confusion_matrix(test_label,y_pred)\n",
    " \n",
    "#Plot the confusion matrix.\n",
    "sns.heatmap(cm,\n",
    "            annot=True,\n",
    "            fmt='g',\n",
    "            xticklabels=['Like','Dislike'],\n",
    "            yticklabels=['Like','Dislike'])\n",
    "plt.ylabel('Prediction',fontsize=13)\n",
    "plt.xlabel('Actual',fontsize=13)\n",
    "plt.title('Confusion Matrix',fontsize=17)\n",
    "plt.show()"
   ]
  },
  {
   "cell_type": "code",
   "execution_count": null,
   "id": "5dcf01f6",
   "metadata": {},
   "outputs": [],
   "source": [
    "accuaracy = (cm[0][0] + cm[1][1]) / test_data.shape[0] *100\n",
    "recall = (cm[0][0]) /(cm[0][0] + cm[1][0]) *100\n",
    "precision = (cm[0][0]) /(cm[0][0] + cm[0][1]) *100\n",
    "f1_score = (2*recall*precision)/(recall + precision)"
   ]
  },
  {
   "cell_type": "code",
   "execution_count": null,
   "id": "efcd1bef",
   "metadata": {},
   "outputs": [],
   "source": [
    "print('Accuracy: ' , accuaracy)\n",
    "print('Precision: ' , precision)\n",
    "print('Recall: ' , recall)\n",
    "print('F1 SCore: ' , f1_score)"
   ]
  },
  {
   "cell_type": "markdown",
   "id": "c573891d",
   "metadata": {},
   "source": [
    "# save the models"
   ]
  },
  {
   "cell_type": "code",
   "execution_count": null,
   "id": "c9ff5fae",
   "metadata": {},
   "outputs": [],
   "source": [
    "# num_fold = 1\n",
    "# for i in folds:\n",
    "#     i.model.save(f'models/modified-data-5Fold-5Model/fold_{num_fold}')\n",
    "#     num_fold+=1"
   ]
  },
  {
   "cell_type": "code",
   "execution_count": null,
   "id": "3f3639d1",
   "metadata": {},
   "outputs": [],
   "source": []
  },
  {
   "cell_type": "code",
   "execution_count": null,
   "id": "97f79f63",
   "metadata": {},
   "outputs": [],
   "source": [
    "print('a')"
   ]
  },
  {
   "cell_type": "code",
   "execution_count": null,
   "id": "41de3a8d",
   "metadata": {},
   "outputs": [],
   "source": []
  }
 ],
 "metadata": {
  "kernelspec": {
   "display_name": "Python 3 (ipykernel)",
   "language": "python",
   "name": "python3"
  },
  "language_info": {
   "codemirror_mode": {
    "name": "ipython",
    "version": 3
   },
   "file_extension": ".py",
   "mimetype": "text/x-python",
   "name": "python",
   "nbconvert_exporter": "python",
   "pygments_lexer": "ipython3",
   "version": "3.11.3"
  }
 },
 "nbformat": 4,
 "nbformat_minor": 5
}
