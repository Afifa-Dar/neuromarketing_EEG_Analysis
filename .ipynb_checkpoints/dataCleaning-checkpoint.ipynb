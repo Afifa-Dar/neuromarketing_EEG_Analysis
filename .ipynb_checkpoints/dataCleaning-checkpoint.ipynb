{
 "cells": [
  {
   "cell_type": "code",
   "execution_count": 5,
   "id": "c4e4f4d5",
   "metadata": {},
   "outputs": [],
   "source": [
    "import pandas as pd\n",
    "import matplotlib.pyplot as plt\n",
    "import seaborn as sns\n",
    "import numpy as np\n",
    "from scipy import signal\n",
    "from scipy import fftpack\n",
    "# import mne\n",
    "from scipy.signal import iirnotch\n",
    "from scipy import stats\n",
    "from scipy.signal import butter, lfilter\n",
    "from scipy.signal import freqs\n"
   ]
  },
  {
   "cell_type": "code",
   "execution_count": 6,
   "id": "3add0bc5",
   "metadata": {},
   "outputs": [],
   "source": [
    "channels = ['ch_'+str(i) for i in range(1,15)]"
   ]
  },
  {
   "cell_type": "code",
   "execution_count": 7,
   "id": "c0cafe3e",
   "metadata": {},
   "outputs": [],
   "source": [
    "fs = 128 # Sampling frequency"
   ]
  },
  {
   "cell_type": "code",
   "execution_count": 8,
   "id": "25b48651",
   "metadata": {},
   "outputs": [],
   "source": [
    "#applying bandpass filter\n",
    "def bandpass(data):\n",
    "    # Define the filter parameters\n",
    "    lowcut = 1  # Lower cutoff frequency\n",
    "    highcut = 45  # Higher cutoff frequency\n",
    "    order = 4  # Filter order\n",
    "\n",
    "    # Calculate the Nyquist frequency\n",
    "    nyq = 0.5 * fs\n",
    "\n",
    "    # Calculate the filter cutoff frequencies in normalized units\n",
    "    low = lowcut / nyq\n",
    "    high = highcut / nyq\n",
    "\n",
    "    # Design a Butterworth bandpass filter\n",
    "    b, a = signal.butter(order, [low, high], btype='band')\n",
    "\n",
    "    # Apply the filter to the EEG data using lfilter\n",
    "    return signal.lfilter(b, a, data)"
   ]
  },
  {
   "cell_type": "code",
   "execution_count": 9,
   "id": "9b0d78b2",
   "metadata": {},
   "outputs": [],
   "source": [
    "def notch(data):\n",
    "    f0 = 50.0\n",
    "    Q = 30.0\n",
    "\n",
    "    # Compute the notch filter coefficients\n",
    "    b, a = signal.iirnotch(f0, Q, fs)\n",
    "\n",
    "    # Apply the notch filter to the signal\n",
    "    return signal.filtfilt(b, a, data)"
   ]
  },
  {
   "cell_type": "code",
   "execution_count": 10,
   "id": "b07dca32",
   "metadata": {},
   "outputs": [
    {
     "data": {
      "text/plain": [
       "'\"\"\\ndef butter_lowpass(cutOff, fs, order=5):\\n    nyq = 0.5 * fs\\n    normalCutoff = cutOff / nyq\\n    b, a = butter(order, normalCutoff, btype=\\'low\\', analog = False)\\n    return b, a\\n\\ndef butter_lowpass_filter(data, cutOff, fs, order=4):\\n    b, a = butter_lowpass(cutOff, fs, order=order)\\n    y = lfilter(b, a, data)\\n    return y\\n\\ndef low_pass(data):\\n    cutOff = 40 #cutoff frequency in rad/s\\n    order = 20 #order of filter\\n    return  butter_lowpass_filter(data, cutOff, fs, order)\\n'"
      ]
     },
     "execution_count": 10,
     "metadata": {},
     "output_type": "execute_result"
    }
   ],
   "source": [
    "\"\"\"\"\"\n",
    "def butter_lowpass(cutOff, fs, order=5):\n",
    "    nyq = 0.5 * fs\n",
    "    normalCutoff = cutOff / nyq\n",
    "    b, a = butter(order, normalCutoff, btype='low', analog = False)\n",
    "    return b, a\n",
    "\n",
    "def butter_lowpass_filter(data, cutOff, fs, order=4):\n",
    "    b, a = butter_lowpass(cutOff, fs, order=order)\n",
    "    y = lfilter(b, a, data)\n",
    "    return y\n",
    "\n",
    "def low_pass(data):\n",
    "    cutOff = 40 #cutoff frequency in rad/s\n",
    "    order = 20 #order of filter\n",
    "    return  butter_lowpass_filter(data, cutOff, fs, order)\n",
    "\"\"\"\"\""
   ]
  },
  {
   "cell_type": "code",
   "execution_count": 12,
   "id": "76ade54f",
   "metadata": {},
   "outputs": [
    {
     "name": "stdout",
     "output_type": "stream",
     "text": [
      "Collecting mne\n",
      "  Downloading mne-1.4.0-py3-none-any.whl (7.7 MB)\n",
      "     ---------------------------------------- 7.7/7.7 MB 97.1 kB/s eta 0:00:00\n",
      "Requirement already satisfied: numpy>=1.15.4 in c:\\programdata\\anaconda3\\lib\\site-packages (from mne) (1.22.4)\n",
      "Requirement already satisfied: scipy>=1.6.3 in c:\\programdata\\anaconda3\\lib\\site-packages (from mne) (1.7.1)\n",
      "Requirement already satisfied: matplotlib in c:\\programdata\\anaconda3\\lib\\site-packages (from mne) (3.4.3)\n",
      "Requirement already satisfied: tqdm in c:\\programdata\\anaconda3\\lib\\site-packages (from mne) (4.62.3)\n",
      "Collecting pooch>=1.5 (from mne)\n",
      "  Downloading pooch-1.7.0-py3-none-any.whl (60 kB)\n",
      "     -------------------------------------- 60.9/60.9 kB 129.5 kB/s eta 0:00:00\n",
      "Requirement already satisfied: decorator in c:\\programdata\\anaconda3\\lib\\site-packages (from mne) (5.1.0)\n",
      "Requirement already satisfied: packaging in c:\\programdata\\anaconda3\\lib\\site-packages (from mne) (21.0)\n",
      "Requirement already satisfied: jinja2 in c:\\programdata\\anaconda3\\lib\\site-packages (from mne) (2.11.3)\n",
      "Collecting platformdirs>=2.5.0 (from pooch>=1.5->mne)\n",
      "  Downloading platformdirs-3.5.1-py3-none-any.whl (15 kB)\n",
      "Requirement already satisfied: requests>=2.19.0 in c:\\programdata\\anaconda3\\lib\\site-packages (from pooch>=1.5->mne) (2.26.0)\n",
      "Requirement already satisfied: pyparsing>=2.0.2 in c:\\programdata\\anaconda3\\lib\\site-packages (from packaging->mne) (3.0.4)\n",
      "Requirement already satisfied: MarkupSafe>=0.23 in c:\\programdata\\anaconda3\\lib\\site-packages (from jinja2->mne) (1.1.1)\n",
      "Requirement already satisfied: cycler>=0.10 in c:\\programdata\\anaconda3\\lib\\site-packages (from matplotlib->mne) (0.10.0)\n",
      "Requirement already satisfied: kiwisolver>=1.0.1 in c:\\programdata\\anaconda3\\lib\\site-packages (from matplotlib->mne) (1.3.1)\n",
      "Requirement already satisfied: pillow>=6.2.0 in c:\\programdata\\anaconda3\\lib\\site-packages (from matplotlib->mne) (8.4.0)\n",
      "Requirement already satisfied: python-dateutil>=2.7 in c:\\programdata\\anaconda3\\lib\\site-packages (from matplotlib->mne) (2.8.2)\n",
      "Requirement already satisfied: colorama in c:\\programdata\\anaconda3\\lib\\site-packages (from tqdm->mne) (0.4.4)\n",
      "Requirement already satisfied: six in c:\\programdata\\anaconda3\\lib\\site-packages (from cycler>=0.10->matplotlib->mne) (1.16.0)\n",
      "Requirement already satisfied: urllib3<1.27,>=1.21.1 in c:\\programdata\\anaconda3\\lib\\site-packages (from requests>=2.19.0->pooch>=1.5->mne) (1.26.7)\n",
      "Requirement already satisfied: certifi>=2017.4.17 in c:\\programdata\\anaconda3\\lib\\site-packages (from requests>=2.19.0->pooch>=1.5->mne) (2021.10.8)\n",
      "Requirement already satisfied: charset-normalizer~=2.0.0 in c:\\programdata\\anaconda3\\lib\\site-packages (from requests>=2.19.0->pooch>=1.5->mne) (2.0.4)\n",
      "Requirement already satisfied: idna<4,>=2.5 in c:\\programdata\\anaconda3\\lib\\site-packages (from requests>=2.19.0->pooch>=1.5->mne) (3.2)\n",
      "Installing collected packages: platformdirs, pooch, mne\n",
      "Successfully installed mne-1.4.0 platformdirs-3.5.1 pooch-1.7.0\n"
     ]
    },
    {
     "name": "stderr",
     "output_type": "stream",
     "text": [
      "WARNING: Ignoring invalid distribution - (c:\\programdata\\anaconda3\\lib\\site-packages)\n",
      "WARNING: Ignoring invalid distribution -mpy (c:\\programdata\\anaconda3\\lib\\site-packages)\n",
      "WARNING: Ignoring invalid distribution -umpy (c:\\programdata\\anaconda3\\lib\\site-packages)\n",
      "WARNING: Ignoring invalid distribution -mpy (c:\\programdata\\anaconda3\\lib\\site-packages)\n",
      "WARNING: Ignoring invalid distribution - (c:\\programdata\\anaconda3\\lib\\site-packages)\n",
      "WARNING: Ignoring invalid distribution -mpy (c:\\programdata\\anaconda3\\lib\\site-packages)\n",
      "WARNING: Ignoring invalid distribution -umpy (c:\\programdata\\anaconda3\\lib\\site-packages)\n",
      "WARNING: Ignoring invalid distribution -mpy (c:\\programdata\\anaconda3\\lib\\site-packages)\n"
     ]
    }
   ],
   "source": [
    "import os\n",
    "directory = 'datasets'\n",
    "for filename in os.listdir(directory):\n",
    "    eeg_data = pd.read_csv(f'{directory}/{filename}')\n",
    "    label = eeg_data['label']\n",
    "    preprocessed_data = pd.DataFrame()\n",
    "    for i in channels:\n",
    "        data = eeg_data[i]\n",
    "        length = len(data)\n",
    "        data = data - data.mean()\n",
    "        data = notch(data)\n",
    "        data = bandpass(data)\n",
    "    #     data = low_pass(data)\n",
    "        preprocessed_data[i] = data\n",
    "#         fft(data)\n",
    "    preprocessed_data['label'] = label\n",
    "    preprocessed_data.to_csv(f'clean_data/{filename[:-4]}.csv',index = False)\n",
    "    "
   ]
  },
  {
   "cell_type": "code",
   "execution_count": null,
   "id": "b1011615",
   "metadata": {},
   "outputs": [],
   "source": []
  }
 ],
 "metadata": {
  "kernelspec": {
   "display_name": "Python 3 (ipykernel)",
   "language": "python",
   "name": "python3"
  },
  "language_info": {
   "codemirror_mode": {
    "name": "ipython",
    "version": 3
   },
   "file_extension": ".py",
   "mimetype": "text/x-python",
   "name": "python",
   "nbconvert_exporter": "python",
   "pygments_lexer": "ipython3",
   "version": "3.9.7"
  }
 },
 "nbformat": 4,
 "nbformat_minor": 5
}
