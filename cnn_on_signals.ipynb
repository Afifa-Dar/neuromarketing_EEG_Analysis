{
 "cells": [
  {
   "cell_type": "code",
   "execution_count": 27,
   "id": "5af0fd3f",
   "metadata": {},
   "outputs": [],
   "source": [
    "import os\n",
    "import numpy as np\n",
    "import pandas as pd"
   ]
  },
  {
   "cell_type": "code",
   "execution_count": 28,
   "id": "0a60c478",
   "metadata": {},
   "outputs": [],
   "source": [
    "from sklearn.model_selection import train_test_split\n",
    "import tensorflow as tf\n",
    "from keras.models import Sequential\n",
    "from keras.layers import Conv2D, MaxPooling2D, Flatten, Dense, Dropout\n",
    "from tensorflow.keras import layers, regularizers"
   ]
  },
  {
   "cell_type": "code",
   "execution_count": 29,
   "id": "dc33f4bc",
   "metadata": {},
   "outputs": [],
   "source": [
    "from tensorflow import keras"
   ]
  },
  {
   "cell_type": "code",
   "execution_count": 30,
   "id": "1820867b",
   "metadata": {},
   "outputs": [],
   "source": [
    "directory = 'handled_data//'\n",
    "like_samples = []\n",
    "dislike_samples = []\n",
    "labels = []\n",
    "for filename in os.scandir(directory):\n",
    "    data = pd.read_csv(filename.path)\n",
    "    if (data[\"label\"][0] == 'Like'):\n",
    "        labels.append(0)\n",
    "        like_samples.append(data.drop(['label'] , axis = 1))\n",
    "    else:\n",
    "        labels.append(1)\n",
    "        dislike_samples.append(data.drop(['label'] , axis = 1))\n",
    "    \n",
    "# directory = 'handled_data/'\n",
    "# samples = []\n",
    "# labels = []\n",
    "# for filename in os.scandir(directory):\n",
    "#     data = pd.read_csv(filename.path)\n",
    "#     samples.append(data.drop(['label'] , axis = 1))\n",
    "#     if (data[\"label\"][0] == 'Like'):\n",
    "#         labels.append(0)\n",
    "#     else:\n",
    "#         labels.append(1)\n",
    "    "
   ]
  },
  {
   "cell_type": "code",
   "execution_count": 31,
   "id": "3e285364",
   "metadata": {},
   "outputs": [],
   "source": [
    "# samples = np.array(samples)\n",
    "# labels = np.array(labels)"
   ]
  },
  {
   "cell_type": "code",
   "execution_count": 32,
   "id": "b8d827e5",
   "metadata": {},
   "outputs": [],
   "source": [
    "# len(samples)"
   ]
  },
  {
   "cell_type": "code",
   "execution_count": 33,
   "id": "84d25a26",
   "metadata": {},
   "outputs": [],
   "source": [
    "# len(labels)"
   ]
  },
  {
   "cell_type": "code",
   "execution_count": 34,
   "id": "3cb79355",
   "metadata": {},
   "outputs": [],
   "source": [
    "like_samples = np.array(like_samples)\n",
    "dislike_samples = np.array(dislike_samples)"
   ]
  },
  {
   "cell_type": "code",
   "execution_count": 35,
   "id": "eb1401a3",
   "metadata": {},
   "outputs": [
    {
     "name": "stdout",
     "output_type": "stream",
     "text": [
      "(461, 512, 14) (584, 512, 14)\n"
     ]
    }
   ],
   "source": [
    "print(like_samples.shape , dislike_samples.shape)"
   ]
  },
  {
   "cell_type": "code",
   "execution_count": 36,
   "id": "6a366fff",
   "metadata": {},
   "outputs": [],
   "source": [
    "train_like_size = int(len(like_samples) * 0.7)\n",
    "# test_like_size = len(like_labels) - train_like_size\n",
    "\n",
    "train_dislike_size = int(len(dislike_samples) * 0.7)\n",
    "# test_dislike_size =len(dislike_labels)  - train_dislike_size"
   ]
  },
  {
   "cell_type": "code",
   "execution_count": 37,
   "id": "d50685e0",
   "metadata": {},
   "outputs": [
    {
     "name": "stdout",
     "output_type": "stream",
     "text": [
      "322\n",
      "408\n"
     ]
    }
   ],
   "source": [
    "print(train_like_size )\n",
    "print(train_dislike_size)"
   ]
  },
  {
   "cell_type": "code",
   "execution_count": 38,
   "id": "9236a48a",
   "metadata": {},
   "outputs": [],
   "source": [
    "\n",
    "# Use stratified sampling to randomly select samples for the train and test sets\n",
    "X_train_like, X_test_like, y_train_like, y_test_like = train_test_split(\n",
    "   like_samples, [i for i in labels if i == 0],\n",
    "    train_size=train_like_size )\n",
    " \n",
    "X_train_dislike, X_test_dislike, y_train_dislike, y_test_dislike = train_test_split(\n",
    "    dislike_samples, [i for i in labels if i == 1] , \n",
    "    train_size = train_dislike_size)\n",
    "\n",
    "# Combine the selected samples to form the train and test sets\n",
    "X_train = np.concatenate((X_train_like, X_train_dislike))\n",
    "X_test = np.concatenate((X_test_like, X_test_dislike))\n",
    "y_train = np.concatenate((y_train_like, y_train_dislike))\n",
    "y_test = np.concatenate((y_test_like, y_test_dislike))\n",
    "\n"
   ]
  },
  {
   "cell_type": "code",
   "execution_count": null,
   "id": "f4638ba1",
   "metadata": {},
   "outputs": [],
   "source": []
  },
  {
   "cell_type": "code",
   "execution_count": 39,
   "id": "c4b1e520",
   "metadata": {},
   "outputs": [],
   "source": [
    "# X_train = np.concatenate((like_samples[41:], dislike_samples[42:]))\n",
    "# X_test = np.concatenate((like_samples[:41], dislike_samples[:42]))\n",
    "# y_train = np.concatenate(([0]*420, [1] * 542))\n",
    "# y_test = np.concatenate(([0]*41, [1] * 42))"
   ]
  },
  {
   "cell_type": "markdown",
   "id": "1b12a01d",
   "metadata": {},
   "source": [
    "# save train and test data"
   ]
  },
  {
   "cell_type": "code",
   "execution_count": 40,
   "id": "d630bdc0",
   "metadata": {},
   "outputs": [],
   "source": [
    "# np.save('training-testing-data/testing/test_data', X_test, allow_pickle=True, fix_imports=True)\n",
    "# np.save('training-testing-data/testing/test_label', y_test, allow_pickle=True, fix_imports=True)\n",
    "\n",
    "# np.save('training-testing-data/training/train_data', X_train, allow_pickle=True, fix_imports=True)\n",
    "# np.save('training-testing-data/training/train_label', y_train, allow_pickle=True, fix_imports=True)\n"
   ]
  },
  {
   "cell_type": "code",
   "execution_count": 41,
   "id": "e481515f",
   "metadata": {},
   "outputs": [],
   "source": [
    "# Set input shape for CNN\n",
    "\n",
    "input_shape = (512,14,1)\n",
    "\n",
    "# Define CNN model architecture\n",
    "model = Sequential()\n",
    "\n",
    "model.add(layers.Conv2D(32, kernel_size=(3, 3), activation='relu' , input_shape = input_shape))\n",
    "model.add(layers.BatchNormalization())\n",
    "model.add(MaxPooling2D(pool_size=(2, 2)))\n",
    "\n",
    "model.add(layers.Conv2D(32, kernel_size=(3, 3), activation='relu'))\n",
    "model.add(layers.BatchNormalization())\n",
    "model.add(MaxPooling2D(pool_size=(2, 2)))\n",
    "\n",
    "\n",
    "# model.add(layers.Conv2D(64, kernel_size=(3, 3), activation='relu'))\n",
    "# model.add(MaxPooling2D(pool_size=(2, 2)))\n",
    "model.add(Dropout(0.3))\n",
    "\n",
    "model.add(Flatten())\n",
    "\n",
    "# model.add(Dropout(0.3))\n",
    "# model.add(Dense(164, activation='relu'))\n",
    "# model.add(Dropout(0.3))\n",
    "\n",
    "# model.add(Dense(164, activation='relu'))\n",
    "# model.add(Dropout(0.3))\n",
    "\n",
    "model.add(Dense(164, activation='relu'))\n",
    "model.add(Dropout(0.3))\n",
    "\n",
    "model.add(Dense(2, activation='softmax'))\n",
    "# model.add(Dense(uni(ts=1, activation='sigmoid'))"
   ]
  },
  {
   "cell_type": "code",
   "execution_count": 42,
   "id": "701ef020",
   "metadata": {},
   "outputs": [],
   "source": [
    "\n",
    "model.compile(keras.optimizers.Adam(learning_rate = 0.0001),\n",
    "              loss='sparse_categorical_crossentropy',\n",
    "              metrics=['accuracy'])"
   ]
  },
  {
   "cell_type": "code",
   "execution_count": 43,
   "id": "5e3561eb",
   "metadata": {
    "scrolled": true
   },
   "outputs": [
    {
     "name": "stdout",
     "output_type": "stream",
     "text": [
      "Epoch 1/50\n",
      "46/46 [==============================] - 6s 99ms/step - loss: 1.3242 - accuracy: 0.5534\n",
      "Epoch 2/50\n",
      "46/46 [==============================] - 5s 114ms/step - loss: 0.6139 - accuracy: 0.7342\n",
      "Epoch 3/50\n",
      "46/46 [==============================] - 5s 100ms/step - loss: 0.3898 - accuracy: 0.8342\n",
      "Epoch 4/50\n",
      "46/46 [==============================] - 5s 100ms/step - loss: 0.3147 - accuracy: 0.8699\n",
      "Epoch 5/50\n",
      "46/46 [==============================] - 5s 108ms/step - loss: 0.2374 - accuracy: 0.9041\n",
      "Epoch 6/50\n",
      "46/46 [==============================] - 5s 113ms/step - loss: 0.1540 - accuracy: 0.9479\n",
      "Epoch 7/50\n",
      "46/46 [==============================] - 5s 99ms/step - loss: 0.1373 - accuracy: 0.9507\n",
      "Epoch 8/50\n",
      "46/46 [==============================] - 7s 159ms/step - loss: 0.1051 - accuracy: 0.9616\n",
      "Epoch 9/50\n",
      "46/46 [==============================] - 6s 131ms/step - loss: 0.0829 - accuracy: 0.9685\n",
      "Epoch 10/50\n",
      "46/46 [==============================] - 6s 122ms/step - loss: 0.0697 - accuracy: 0.9753\n",
      "Epoch 11/50\n",
      "46/46 [==============================] - 5s 117ms/step - loss: 0.0536 - accuracy: 0.9822\n",
      "Epoch 12/50\n",
      "46/46 [==============================] - 6s 124ms/step - loss: 0.0429 - accuracy: 0.9890\n",
      "Epoch 13/50\n",
      "46/46 [==============================] - 6s 136ms/step - loss: 0.0403 - accuracy: 0.9863\n",
      "Epoch 14/50\n",
      "46/46 [==============================] - 5s 110ms/step - loss: 0.0446 - accuracy: 0.9877\n",
      "Epoch 15/50\n",
      "46/46 [==============================] - 5s 113ms/step - loss: 0.0203 - accuracy: 0.9973\n",
      "Epoch 16/50\n",
      "46/46 [==============================] - 5s 101ms/step - loss: 0.0234 - accuracy: 0.9945\n",
      "Epoch 17/50\n",
      "46/46 [==============================] - 5s 101ms/step - loss: 0.0205 - accuracy: 0.9973\n",
      "Epoch 18/50\n",
      "46/46 [==============================] - 5s 101ms/step - loss: 0.0147 - accuracy: 0.9973\n",
      "Epoch 19/50\n",
      "46/46 [==============================] - 5s 101ms/step - loss: 0.0170 - accuracy: 0.9959\n",
      "Epoch 20/50\n",
      "46/46 [==============================] - 5s 102ms/step - loss: 0.0201 - accuracy: 0.9932\n",
      "Epoch 21/50\n",
      "46/46 [==============================] - 6s 122ms/step - loss: 0.0141 - accuracy: 0.9959\n",
      "Epoch 22/50\n",
      "46/46 [==============================] - 5s 116ms/step - loss: 0.0112 - accuracy: 0.9973\n",
      "Epoch 23/50\n",
      "46/46 [==============================] - 7s 147ms/step - loss: 0.0094 - accuracy: 0.9973\n",
      "Epoch 24/50\n",
      "46/46 [==============================] - 6s 127ms/step - loss: 0.0113 - accuracy: 0.9986\n",
      "Epoch 25/50\n",
      "46/46 [==============================] - 6s 121ms/step - loss: 0.0114 - accuracy: 0.9973\n",
      "Epoch 26/50\n",
      "46/46 [==============================] - 5s 113ms/step - loss: 0.0071 - accuracy: 0.9986\n",
      "Epoch 27/50\n",
      "46/46 [==============================] - 5s 111ms/step - loss: 0.0194 - accuracy: 0.9918\n",
      "Epoch 28/50\n",
      "46/46 [==============================] - 5s 105ms/step - loss: 0.0045 - accuracy: 1.0000\n",
      "Epoch 29/50\n",
      "46/46 [==============================] - 5s 109ms/step - loss: 0.0062 - accuracy: 0.9973\n",
      "Epoch 30/50\n",
      "46/46 [==============================] - 5s 106ms/step - loss: 0.0084 - accuracy: 0.9973\n",
      "Epoch 31/50\n",
      "46/46 [==============================] - 5s 105ms/step - loss: 0.0055 - accuracy: 0.9986\n",
      "Epoch 32/50\n",
      "46/46 [==============================] - 6s 124ms/step - loss: 0.0051 - accuracy: 0.9986\n",
      "Epoch 33/50\n",
      "46/46 [==============================] - 6s 125ms/step - loss: 0.0128 - accuracy: 0.9959\n",
      "Epoch 34/50\n",
      "46/46 [==============================] - 6s 133ms/step - loss: 0.0056 - accuracy: 0.9986\n",
      "Epoch 35/50\n",
      "46/46 [==============================] - 6s 129ms/step - loss: 0.0063 - accuracy: 1.0000\n",
      "Epoch 36/50\n",
      "46/46 [==============================] - 5s 105ms/step - loss: 0.0032 - accuracy: 0.9986\n",
      "Epoch 37/50\n",
      "46/46 [==============================] - 5s 102ms/step - loss: 0.0063 - accuracy: 0.9973\n",
      "Epoch 38/50\n",
      "46/46 [==============================] - 5s 102ms/step - loss: 0.0038 - accuracy: 1.0000\n",
      "Epoch 39/50\n",
      "46/46 [==============================] - 5s 101ms/step - loss: 0.0039 - accuracy: 1.0000\n",
      "Epoch 40/50\n",
      "46/46 [==============================] - 5s 112ms/step - loss: 0.0033 - accuracy: 1.0000\n",
      "Epoch 41/50\n",
      "46/46 [==============================] - 5s 104ms/step - loss: 0.0018 - accuracy: 1.0000\n",
      "Epoch 42/50\n",
      "46/46 [==============================] - 6s 128ms/step - loss: 0.0041 - accuracy: 1.0000\n",
      "Epoch 43/50\n",
      "46/46 [==============================] - 5s 111ms/step - loss: 0.0057 - accuracy: 0.9973\n",
      "Epoch 44/50\n",
      "46/46 [==============================] - 6s 120ms/step - loss: 0.0038 - accuracy: 1.0000\n",
      "Epoch 45/50\n",
      "46/46 [==============================] - 5s 107ms/step - loss: 0.0021 - accuracy: 1.0000\n",
      "Epoch 46/50\n",
      "46/46 [==============================] - 5s 105ms/step - loss: 0.0032 - accuracy: 1.0000\n",
      "Epoch 47/50\n",
      "46/46 [==============================] - 5s 110ms/step - loss: 0.0014 - accuracy: 1.0000\n",
      "Epoch 48/50\n",
      "46/46 [==============================] - 5s 115ms/step - loss: 0.0026 - accuracy: 1.0000\n",
      "Epoch 49/50\n",
      "46/46 [==============================] - 5s 119ms/step - loss: 0.0024 - accuracy: 1.0000\n",
      "Epoch 50/50\n",
      "46/46 [==============================] - 5s 119ms/step - loss: 0.0048 - accuracy: 0.9986\n"
     ]
    },
    {
     "data": {
      "text/plain": [
       "<keras.src.callbacks.History at 0x23f0873af50>"
      ]
     },
     "execution_count": 43,
     "metadata": {},
     "output_type": "execute_result"
    }
   ],
   "source": [
    "model.fit(X_train , y_train , epochs = 50 , batch_size = 16)"
   ]
  },
  {
   "cell_type": "code",
   "execution_count": 44,
   "id": "957873c3",
   "metadata": {},
   "outputs": [
    {
     "name": "stdout",
     "output_type": "stream",
     "text": [
      "10/10 [==============================] - 1s 72ms/step - loss: 0.5417 - accuracy: 0.8730\n"
     ]
    },
    {
     "data": {
      "text/plain": [
       "[0.541652500629425, 0.8730158805847168]"
      ]
     },
     "execution_count": 44,
     "metadata": {},
     "output_type": "execute_result"
    }
   ],
   "source": [
    "model.evaluate(X_test , y_test)"
   ]
  },
  {
   "cell_type": "code",
   "execution_count": 45,
   "id": "dadf2609",
   "metadata": {
    "scrolled": true
   },
   "outputs": [
    {
     "name": "stdout",
     "output_type": "stream",
     "text": [
      "1/1 [==============================] - 0s 94ms/step\n",
      "1/1 [==============================] - 0s 23ms/step\n",
      "1/1 [==============================] - 0s 24ms/step\n",
      "1/1 [==============================] - 0s 24ms/step\n",
      "1/1 [==============================] - 0s 23ms/step\n",
      "1/1 [==============================] - 0s 23ms/step\n",
      "1/1 [==============================] - 0s 24ms/step\n",
      "1/1 [==============================] - 0s 23ms/step\n",
      "1/1 [==============================] - 0s 23ms/step\n",
      "1/1 [==============================] - 0s 24ms/step\n",
      "1/1 [==============================] - 0s 30ms/step\n",
      "1/1 [==============================] - 0s 30ms/step\n",
      "1/1 [==============================] - 0s 27ms/step\n",
      "1/1 [==============================] - 0s 27ms/step\n",
      "1/1 [==============================] - 0s 25ms/step\n",
      "1/1 [==============================] - 0s 28ms/step\n",
      "1/1 [==============================] - 0s 24ms/step\n",
      "1/1 [==============================] - 0s 23ms/step\n",
      "1/1 [==============================] - 0s 25ms/step\n",
      "1/1 [==============================] - 0s 24ms/step\n",
      "1/1 [==============================] - 0s 24ms/step\n",
      "1/1 [==============================] - 0s 24ms/step\n",
      "1/1 [==============================] - 0s 23ms/step\n",
      "1/1 [==============================] - 0s 24ms/step\n",
      "1/1 [==============================] - 0s 24ms/step\n",
      "1/1 [==============================] - 0s 23ms/step\n",
      "1/1 [==============================] - 0s 24ms/step\n",
      "1/1 [==============================] - 0s 23ms/step\n",
      "1/1 [==============================] - 0s 23ms/step\n",
      "1/1 [==============================] - 0s 27ms/step\n",
      "1/1 [==============================] - 0s 23ms/step\n",
      "1/1 [==============================] - 0s 23ms/step\n",
      "1/1 [==============================] - 0s 24ms/step\n",
      "1/1 [==============================] - 0s 30ms/step\n",
      "1/1 [==============================] - 0s 30ms/step\n",
      "1/1 [==============================] - 0s 29ms/step\n",
      "1/1 [==============================] - 0s 26ms/step\n",
      "1/1 [==============================] - 0s 26ms/step\n",
      "1/1 [==============================] - 0s 23ms/step\n",
      "1/1 [==============================] - 0s 23ms/step\n",
      "1/1 [==============================] - 0s 25ms/step\n",
      "1/1 [==============================] - 0s 28ms/step\n",
      "1/1 [==============================] - 0s 34ms/step\n",
      "1/1 [==============================] - 0s 29ms/step\n",
      "1/1 [==============================] - 0s 28ms/step\n",
      "1/1 [==============================] - 0s 25ms/step\n",
      "1/1 [==============================] - 0s 27ms/step\n",
      "1/1 [==============================] - 0s 28ms/step\n",
      "1/1 [==============================] - 0s 26ms/step\n",
      "1/1 [==============================] - 0s 28ms/step\n",
      "1/1 [==============================] - 0s 30ms/step\n",
      "1/1 [==============================] - 0s 28ms/step\n",
      "1/1 [==============================] - 0s 30ms/step\n",
      "1/1 [==============================] - 0s 26ms/step\n",
      "1/1 [==============================] - 0s 27ms/step\n",
      "1/1 [==============================] - 0s 29ms/step\n",
      "1/1 [==============================] - 0s 25ms/step\n",
      "1/1 [==============================] - 0s 27ms/step\n",
      "1/1 [==============================] - 0s 23ms/step\n",
      "1/1 [==============================] - 0s 24ms/step\n",
      "1/1 [==============================] - 0s 22ms/step\n",
      "1/1 [==============================] - 0s 25ms/step\n",
      "1/1 [==============================] - 0s 27ms/step\n",
      "1/1 [==============================] - 0s 28ms/step\n",
      "1/1 [==============================] - 0s 26ms/step\n",
      "1/1 [==============================] - 0s 29ms/step\n",
      "1/1 [==============================] - 0s 23ms/step\n",
      "1/1 [==============================] - 0s 23ms/step\n",
      "1/1 [==============================] - 0s 23ms/step\n",
      "1/1 [==============================] - 0s 23ms/step\n",
      "1/1 [==============================] - 0s 23ms/step\n",
      "1/1 [==============================] - 0s 23ms/step\n",
      "1/1 [==============================] - 0s 23ms/step\n",
      "1/1 [==============================] - 0s 23ms/step\n",
      "1/1 [==============================] - 0s 23ms/step\n",
      "1/1 [==============================] - 0s 22ms/step\n",
      "1/1 [==============================] - 0s 23ms/step\n",
      "1/1 [==============================] - 0s 24ms/step\n",
      "1/1 [==============================] - 0s 26ms/step\n",
      "1/1 [==============================] - 0s 29ms/step\n",
      "1/1 [==============================] - 0s 28ms/step\n",
      "1/1 [==============================] - 0s 26ms/step\n",
      "1/1 [==============================] - 0s 27ms/step\n",
      "1/1 [==============================] - 0s 27ms/step\n",
      "1/1 [==============================] - 0s 26ms/step\n",
      "1/1 [==============================] - 0s 27ms/step\n",
      "1/1 [==============================] - 0s 25ms/step\n",
      "1/1 [==============================] - 0s 23ms/step\n",
      "1/1 [==============================] - 0s 23ms/step\n",
      "1/1 [==============================] - 0s 24ms/step\n",
      "1/1 [==============================] - 0s 23ms/step\n",
      "1/1 [==============================] - 0s 24ms/step\n",
      "1/1 [==============================] - 0s 23ms/step\n",
      "1/1 [==============================] - 0s 26ms/step\n",
      "1/1 [==============================] - 0s 26ms/step\n",
      "1/1 [==============================] - 0s 23ms/step\n",
      "1/1 [==============================] - 0s 23ms/step\n",
      "1/1 [==============================] - 0s 24ms/step\n",
      "1/1 [==============================] - 0s 24ms/step\n",
      "1/1 [==============================] - 0s 23ms/step\n",
      "1/1 [==============================] - 0s 23ms/step\n",
      "1/1 [==============================] - 0s 24ms/step\n",
      "1/1 [==============================] - 0s 25ms/step\n",
      "1/1 [==============================] - 0s 28ms/step\n",
      "1/1 [==============================] - 0s 28ms/step\n",
      "1/1 [==============================] - 0s 28ms/step\n",
      "1/1 [==============================] - 0s 26ms/step\n",
      "1/1 [==============================] - 0s 28ms/step\n",
      "1/1 [==============================] - 0s 27ms/step\n",
      "1/1 [==============================] - 0s 27ms/step\n",
      "1/1 [==============================] - 0s 25ms/step\n",
      "1/1 [==============================] - 0s 27ms/step\n",
      "1/1 [==============================] - 0s 23ms/step\n",
      "1/1 [==============================] - 0s 23ms/step\n",
      "1/1 [==============================] - 0s 23ms/step\n",
      "1/1 [==============================] - 0s 23ms/step\n",
      "1/1 [==============================] - 0s 23ms/step\n",
      "1/1 [==============================] - 0s 23ms/step\n",
      "1/1 [==============================] - 0s 24ms/step\n",
      "1/1 [==============================] - 0s 23ms/step\n",
      "1/1 [==============================] - 0s 23ms/step\n",
      "1/1 [==============================] - 0s 23ms/step\n",
      "1/1 [==============================] - 0s 24ms/step\n",
      "1/1 [==============================] - 0s 30ms/step\n",
      "1/1 [==============================] - 0s 27ms/step\n",
      "1/1 [==============================] - 0s 28ms/step\n",
      "1/1 [==============================] - 0s 25ms/step\n",
      "1/1 [==============================] - 0s 27ms/step\n",
      "1/1 [==============================] - 0s 27ms/step\n",
      "1/1 [==============================] - 0s 27ms/step\n",
      "1/1 [==============================] - 0s 28ms/step\n",
      "1/1 [==============================] - 0s 27ms/step\n",
      "1/1 [==============================] - 0s 24ms/step\n",
      "1/1 [==============================] - 0s 23ms/step\n",
      "1/1 [==============================] - 0s 24ms/step\n",
      "1/1 [==============================] - 0s 23ms/step\n",
      "1/1 [==============================] - 0s 24ms/step\n",
      "1/1 [==============================] - 0s 24ms/step\n",
      "1/1 [==============================] - 0s 23ms/step\n",
      "1/1 [==============================] - 0s 22ms/step\n",
      "1/1 [==============================] - 0s 26ms/step\n",
      "1/1 [==============================] - 0s 28ms/step\n",
      "1/1 [==============================] - 0s 27ms/step\n",
      "1/1 [==============================] - 0s 28ms/step\n",
      "1/1 [==============================] - 0s 27ms/step\n",
      "1/1 [==============================] - 0s 28ms/step\n",
      "1/1 [==============================] - 0s 24ms/step\n",
      "1/1 [==============================] - 0s 23ms/step\n",
      "1/1 [==============================] - 0s 24ms/step\n",
      "1/1 [==============================] - 0s 23ms/step\n",
      "1/1 [==============================] - 0s 22ms/step\n",
      "1/1 [==============================] - 0s 24ms/step\n",
      "1/1 [==============================] - 0s 24ms/step\n",
      "1/1 [==============================] - 0s 24ms/step\n",
      "1/1 [==============================] - 0s 22ms/step\n",
      "1/1 [==============================] - 0s 24ms/step\n",
      "1/1 [==============================] - 0s 25ms/step\n"
     ]
    },
    {
     "name": "stdout",
     "output_type": "stream",
     "text": [
      "1/1 [==============================] - 0s 33ms/step\n",
      "1/1 [==============================] - 0s 31ms/step\n",
      "1/1 [==============================] - 0s 31ms/step\n",
      "1/1 [==============================] - 0s 31ms/step\n",
      "1/1 [==============================] - 0s 28ms/step\n",
      "1/1 [==============================] - 0s 27ms/step\n",
      "1/1 [==============================] - 0s 27ms/step\n",
      "1/1 [==============================] - 0s 24ms/step\n",
      "1/1 [==============================] - 0s 23ms/step\n",
      "1/1 [==============================] - 0s 23ms/step\n",
      "1/1 [==============================] - 0s 23ms/step\n",
      "1/1 [==============================] - 0s 22ms/step\n",
      "1/1 [==============================] - 0s 24ms/step\n",
      "1/1 [==============================] - 0s 24ms/step\n",
      "1/1 [==============================] - 0s 23ms/step\n",
      "1/1 [==============================] - 0s 23ms/step\n",
      "1/1 [==============================] - 0s 22ms/step\n",
      "1/1 [==============================] - 0s 24ms/step\n",
      "1/1 [==============================] - 0s 23ms/step\n",
      "1/1 [==============================] - 0s 23ms/step\n",
      "1/1 [==============================] - 0s 22ms/step\n",
      "1/1 [==============================] - 0s 24ms/step\n",
      "1/1 [==============================] - 0s 23ms/step\n",
      "1/1 [==============================] - 0s 31ms/step\n",
      "1/1 [==============================] - 0s 26ms/step\n",
      "1/1 [==============================] - 0s 40ms/step\n",
      "1/1 [==============================] - 0s 28ms/step\n",
      "1/1 [==============================] - 0s 22ms/step\n",
      "1/1 [==============================] - 0s 23ms/step\n",
      "1/1 [==============================] - 0s 24ms/step\n",
      "1/1 [==============================] - 0s 23ms/step\n",
      "1/1 [==============================] - 0s 23ms/step\n",
      "1/1 [==============================] - 0s 23ms/step\n",
      "1/1 [==============================] - 0s 23ms/step\n",
      "1/1 [==============================] - 0s 24ms/step\n",
      "1/1 [==============================] - 0s 23ms/step\n",
      "1/1 [==============================] - 0s 23ms/step\n",
      "1/1 [==============================] - 0s 23ms/step\n",
      "1/1 [==============================] - 0s 23ms/step\n",
      "1/1 [==============================] - 0s 22ms/step\n",
      "1/1 [==============================] - 0s 23ms/step\n",
      "1/1 [==============================] - 0s 23ms/step\n",
      "1/1 [==============================] - 0s 23ms/step\n",
      "1/1 [==============================] - 0s 24ms/step\n",
      "1/1 [==============================] - 0s 24ms/step\n",
      "1/1 [==============================] - 0s 23ms/step\n",
      "1/1 [==============================] - 0s 24ms/step\n",
      "1/1 [==============================] - 0s 23ms/step\n",
      "1/1 [==============================] - 0s 23ms/step\n",
      "1/1 [==============================] - 0s 23ms/step\n",
      "1/1 [==============================] - 0s 23ms/step\n",
      "1/1 [==============================] - 0s 24ms/step\n",
      "1/1 [==============================] - 0s 24ms/step\n",
      "1/1 [==============================] - 0s 23ms/step\n",
      "1/1 [==============================] - 0s 23ms/step\n",
      "1/1 [==============================] - 0s 23ms/step\n",
      "1/1 [==============================] - 0s 23ms/step\n",
      "1/1 [==============================] - 0s 23ms/step\n",
      "1/1 [==============================] - 0s 23ms/step\n",
      "1/1 [==============================] - 0s 24ms/step\n",
      "1/1 [==============================] - 0s 24ms/step\n",
      "1/1 [==============================] - 0s 24ms/step\n",
      "1/1 [==============================] - 0s 24ms/step\n",
      "1/1 [==============================] - 0s 23ms/step\n",
      "1/1 [==============================] - 0s 23ms/step\n",
      "1/1 [==============================] - 0s 23ms/step\n",
      "1/1 [==============================] - 0s 23ms/step\n",
      "1/1 [==============================] - 0s 23ms/step\n",
      "1/1 [==============================] - 0s 24ms/step\n",
      "1/1 [==============================] - 0s 23ms/step\n",
      "1/1 [==============================] - 0s 23ms/step\n",
      "1/1 [==============================] - 0s 22ms/step\n",
      "1/1 [==============================] - 0s 24ms/step\n",
      "1/1 [==============================] - 0s 23ms/step\n",
      "1/1 [==============================] - 0s 23ms/step\n",
      "1/1 [==============================] - 0s 23ms/step\n",
      "1/1 [==============================] - 0s 24ms/step\n",
      "1/1 [==============================] - 0s 23ms/step\n",
      "1/1 [==============================] - 0s 24ms/step\n",
      "1/1 [==============================] - 0s 24ms/step\n",
      "1/1 [==============================] - 0s 23ms/step\n",
      "1/1 [==============================] - 0s 23ms/step\n",
      "1/1 [==============================] - 0s 22ms/step\n",
      "1/1 [==============================] - 0s 23ms/step\n",
      "1/1 [==============================] - 0s 22ms/step\n",
      "1/1 [==============================] - 0s 23ms/step\n",
      "1/1 [==============================] - 0s 23ms/step\n",
      "1/1 [==============================] - 0s 38ms/step\n",
      "1/1 [==============================] - 0s 24ms/step\n",
      "1/1 [==============================] - 0s 23ms/step\n",
      "1/1 [==============================] - 0s 23ms/step\n",
      "1/1 [==============================] - 0s 23ms/step\n",
      "1/1 [==============================] - 0s 22ms/step\n",
      "1/1 [==============================] - 0s 23ms/step\n",
      "1/1 [==============================] - 0s 23ms/step\n",
      "1/1 [==============================] - 0s 23ms/step\n",
      "1/1 [==============================] - 0s 24ms/step\n",
      "1/1 [==============================] - 0s 24ms/step\n",
      "1/1 [==============================] - 0s 24ms/step\n",
      "1/1 [==============================] - 0s 23ms/step\n",
      "1/1 [==============================] - 0s 24ms/step\n",
      "1/1 [==============================] - 0s 23ms/step\n",
      "1/1 [==============================] - 0s 23ms/step\n",
      "1/1 [==============================] - 0s 23ms/step\n",
      "1/1 [==============================] - 0s 24ms/step\n",
      "1/1 [==============================] - 0s 23ms/step\n",
      "1/1 [==============================] - 0s 23ms/step\n",
      "1/1 [==============================] - 0s 24ms/step\n",
      "1/1 [==============================] - 0s 23ms/step\n",
      "1/1 [==============================] - 0s 24ms/step\n",
      "1/1 [==============================] - 0s 23ms/step\n",
      "1/1 [==============================] - 0s 23ms/step\n",
      "1/1 [==============================] - 0s 24ms/step\n",
      "1/1 [==============================] - 0s 24ms/step\n",
      "1/1 [==============================] - 0s 25ms/step\n",
      "1/1 [==============================] - 0s 23ms/step\n",
      "1/1 [==============================] - 0s 23ms/step\n",
      "1/1 [==============================] - 0s 23ms/step\n",
      "1/1 [==============================] - 0s 23ms/step\n",
      "1/1 [==============================] - 0s 23ms/step\n",
      "1/1 [==============================] - 0s 23ms/step\n",
      "1/1 [==============================] - 0s 23ms/step\n",
      "1/1 [==============================] - 0s 24ms/step\n",
      "1/1 [==============================] - 0s 23ms/step\n",
      "1/1 [==============================] - 0s 23ms/step\n",
      "1/1 [==============================] - 0s 24ms/step\n",
      "1/1 [==============================] - 0s 23ms/step\n",
      "1/1 [==============================] - 0s 24ms/step\n",
      "1/1 [==============================] - 0s 24ms/step\n",
      "1/1 [==============================] - 0s 23ms/step\n",
      "1/1 [==============================] - 0s 23ms/step\n",
      "1/1 [==============================] - 0s 23ms/step\n",
      "1/1 [==============================] - 0s 23ms/step\n",
      "1/1 [==============================] - 0s 22ms/step\n",
      "1/1 [==============================] - 0s 23ms/step\n",
      "1/1 [==============================] - 0s 23ms/step\n",
      "1/1 [==============================] - 0s 23ms/step\n",
      "1/1 [==============================] - 0s 22ms/step\n",
      "1/1 [==============================] - 0s 23ms/step\n",
      "1/1 [==============================] - 0s 24ms/step\n",
      "1/1 [==============================] - 0s 24ms/step\n",
      "1/1 [==============================] - 0s 24ms/step\n",
      "1/1 [==============================] - 0s 23ms/step\n",
      "1/1 [==============================] - 0s 23ms/step\n",
      "1/1 [==============================] - 0s 23ms/step\n",
      "1/1 [==============================] - 0s 23ms/step\n",
      "1/1 [==============================] - 0s 22ms/step\n",
      "1/1 [==============================] - 0s 22ms/step\n",
      "1/1 [==============================] - 0s 23ms/step\n",
      "1/1 [==============================] - 0s 24ms/step\n",
      "1/1 [==============================] - 0s 23ms/step\n",
      "1/1 [==============================] - 0s 23ms/step\n",
      "1/1 [==============================] - 0s 23ms/step\n",
      "1/1 [==============================] - 0s 23ms/step\n",
      "1/1 [==============================] - 0s 23ms/step\n",
      "1/1 [==============================] - 0s 24ms/step\n",
      "1/1 [==============================] - 0s 23ms/step\n"
     ]
    },
    {
     "name": "stdout",
     "output_type": "stream",
     "text": [
      "1/1 [==============================] - ETA: 0s\b\b\b\b\b\b\b\b\b\b\b\b\b\b\b\b\b\b\b\b\b\b\b\b\b\b\b\b\b\b\b\b\b\b\b\b\b\b\b\b\b\b\b\b\b\b\r",
      "1/1 [==============================] - 0s 24ms/step\n"
     ]
    }
   ],
   "source": [
    "y_pred=[]\n",
    "\n",
    "for data in X_test:\n",
    "    y_pred.append(np.argmax(model.predict(np.array([data , ]))))"
   ]
  },
  {
   "cell_type": "markdown",
   "id": "a83e9a12",
   "metadata": {},
   "source": [
    "# evaluate Model"
   ]
  },
  {
   "cell_type": "code",
   "execution_count": 46,
   "id": "529aa9a1",
   "metadata": {},
   "outputs": [],
   "source": [
    "import seaborn as sns\n",
    "from sklearn.metrics import confusion_matrix \n",
    "import matplotlib.pyplot as plt"
   ]
  },
  {
   "cell_type": "code",
   "execution_count": 47,
   "id": "5ee792d7",
   "metadata": {},
   "outputs": [
    {
     "data": {
      "image/png": "[encoded data removed]",
      "text/plain": [
       "<Figure size 640x480 with 2 Axes>"
      ]
     },
     "metadata": {},
     "output_type": "display_data"
    }
   ],
   "source": [
    "cm = confusion_matrix(y_test,y_pred)\n",
    " \n",
    "#Plot the confusion matrix.\n",
    "sns.heatmap(cm,\n",
    "            annot=True,\n",
    "            fmt='g',\n",
    "            xticklabels=['Like','Dislike'],\n",
    "            yticklabels=['Like','Dislike'])\n",
    "plt.ylabel('Prediction',fontsize=13)\n",
    "plt.xlabel('Actual',fontsize=13)\n",
    "plt.title('Confusion Matrix',fontsize=17)\n",
    "plt.show()"
   ]
  },
  {
   "cell_type": "code",
   "execution_count": 48,
   "id": "b8b69d80",
   "metadata": {},
   "outputs": [],
   "source": [
    "accuaracy = (cm[0][0] + cm[1][1]) / X_test.shape[0] *100\n",
    "recall = (cm[0][0]) /(cm[0][0] + cm[1][0]) *100\n",
    "precision = (cm[0][0]) /(cm[0][0] + cm[0][1]) *100\n",
    "f1_score = (2*recall*precision)/(recall + precision)"
   ]
  },
  {
   "cell_type": "code",
   "execution_count": 49,
   "id": "8c186422",
   "metadata": {},
   "outputs": [
    {
     "name": "stdout",
     "output_type": "stream",
     "text": [
      "Accuracy:  87.3015873015873\n",
      "Precision:  84.89208633093526\n",
      "Recall:  86.13138686131386\n",
      "F1 SCore:  85.5072463768116\n"
     ]
    }
   ],
   "source": [
    "print('Accuracy: ' , accuaracy)\n",
    "print('Precision: ' , precision)\n",
    "print('Recall: ' , recall)\n",
    "print('F1 SCore: ' , f1_score)"
   ]
  },
  {
   "cell_type": "markdown",
   "id": "2aee3647",
   "metadata": {},
   "source": [
    "# save model"
   ]
  },
  {
   "cell_type": "code",
   "execution_count": 50,
   "id": "7c204219",
   "metadata": {},
   "outputs": [],
   "source": [
    "# model.save('models/modified_data_single_fold')"
   ]
  },
  {
   "cell_type": "markdown",
   "id": "2e566df1",
   "metadata": {},
   "source": [
    "# load model"
   ]
  },
  {
   "cell_type": "code",
   "execution_count": 51,
   "id": "40261e8f",
   "metadata": {},
   "outputs": [],
   "source": [
    "# model = tf.keras.models.load_model('models/modified_data_single_fold//')\n",
    "\n",
    "# Check its architecture\n",
    "# model.summary()"
   ]
  },
  {
   "cell_type": "code",
   "execution_count": 52,
   "id": "cd321bd9",
   "metadata": {},
   "outputs": [],
   "source": [
    "# model.evaluate((np.concatenate((X_train,X_test))),np.concatenate((y_train,y_test)))\n",
    "# model.evaluate(samples,labels)"
   ]
  },
  {
   "cell_type": "code",
   "execution_count": null,
   "id": "3c3dd261",
   "metadata": {},
   "outputs": [],
   "source": []
  }
 ],
 "metadata": {
  "kernelspec": {
   "display_name": "Python 3 (ipykernel)",
   "language": "python",
   "name": "python3"
  },
  "language_info": {
   "codemirror_mode": {
    "name": "ipython",
    "version": 3
   },
   "file_extension": ".py",
   "mimetype": "text/x-python",
   "name": "python",
   "nbconvert_exporter": "python",
   "pygments_lexer": "ipython3",
   "version": "3.11.3"
  }
 },
 "nbformat": 4,
 "nbformat_minor": 5
}
