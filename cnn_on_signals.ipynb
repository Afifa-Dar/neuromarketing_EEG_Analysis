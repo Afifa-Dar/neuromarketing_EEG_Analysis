{
 "cells": [
  {
   "cell_type": "code",
   "execution_count": 44,
   "id": "5af0fd3f",
   "metadata": {},
   "outputs": [],
   "source": [
    "import os\n",
    "import numpy as np\n",
    "import pandas as pd"
   ]
  },
  {
   "cell_type": "code",
   "execution_count": 45,
   "id": "0a60c478",
   "metadata": {},
   "outputs": [],
   "source": [
    "from sklearn.model_selection import train_test_split\n",
    "import tensorflow as tf\n",
    "from keras.models import Sequential\n",
    "from keras.layers import Conv2D, MaxPooling2D, Flatten, Dense, Dropout\n",
    "from tensorflow.keras import layers, regularizers"
   ]
  },
  {
   "cell_type": "code",
   "execution_count": 46,
   "id": "dc33f4bc",
   "metadata": {},
   "outputs": [],
   "source": [
    "from tensorflow import keras"
   ]
  },
  {
   "cell_type": "code",
   "execution_count": 59,
   "id": "1820867b",
   "metadata": {},
   "outputs": [],
   "source": [
    "# directory = 'modified_data/'\n",
    "# like_samples = []\n",
    "# dislike_samples = []\n",
    "# labels = []\n",
    "# for filename in os.scandir(directory):\n",
    "#     data = pd.read_csv(filename.path)\n",
    "#     if (data[\"label\"][0] == 'Like'):\n",
    "#         labels.append(0)\n",
    "#         like_samples.append(data.drop(['label'] , axis = 1))\n",
    "#     else:\n",
    "#         labels.append(1)\n",
    "#         dislike_samples.append(data.drop(['label'] , axis = 1))\n",
    "    \n",
    "directory = 'modified_data/'\n",
    "samples = []\n",
    "labels = []\n",
    "for filename in os.scandir(directory):\n",
    "    data = pd.read_csv(filename.path)\n",
    "    samples.append(data.drop(['label'] , axis = 1))\n",
    "    if (data[\"label\"][0] == 'Like'):\n",
    "        labels.append(0)\n",
    "    else:\n",
    "        labels.append(1)\n",
    "    "
   ]
  },
  {
   "cell_type": "code",
   "execution_count": 64,
   "id": "3e285364",
   "metadata": {},
   "outputs": [],
   "source": [
    "samples = np.array(samples)\n",
    "labels = np.array(labels)"
   ]
  },
  {
   "cell_type": "code",
   "execution_count": 49,
   "id": "3cb79355",
   "metadata": {},
   "outputs": [],
   "source": [
    "like_samples = np.array(like_samples)\n",
    "dislike_samples = np.array(dislike_samples)"
   ]
  },
  {
   "cell_type": "code",
   "execution_count": 50,
   "id": "eb1401a3",
   "metadata": {},
   "outputs": [
    {
     "name": "stdout",
     "output_type": "stream",
     "text": [
      "(461, 512, 14) (584, 512, 14)\n"
     ]
    }
   ],
   "source": [
    "print(like_samples.shape , dislike_samples.shape)"
   ]
  },
  {
   "cell_type": "code",
   "execution_count": 51,
   "id": "6a366fff",
   "metadata": {},
   "outputs": [],
   "source": [
    "train_like_size = int(len(like_samples) * 0.7)\n",
    "# test_like_size = len(like_labels) - train_like_size\n",
    "\n",
    "train_dislike_size = int(len(dislike_samples) * 0.7)\n",
    "# test_dislike_size =len(dislike_labels)  - train_dislike_size"
   ]
  },
  {
   "cell_type": "code",
   "execution_count": 52,
   "id": "d50685e0",
   "metadata": {},
   "outputs": [
    {
     "name": "stdout",
     "output_type": "stream",
     "text": [
      "322\n",
      "408\n"
     ]
    }
   ],
   "source": [
    "print(train_like_size )\n",
    "print(train_dislike_size)"
   ]
  },
  {
   "cell_type": "code",
   "execution_count": 53,
   "id": "9236a48a",
   "metadata": {},
   "outputs": [],
   "source": [
    "\n",
    "# Use stratified sampling to randomly select samples for the train and test sets\n",
    "X_train_like, X_test_like, y_train_like, y_test_like = train_test_split(\n",
    "   like_samples, [i for i in labels if i == 0],\n",
    "    train_size=train_like_size )\n",
    " \n",
    "X_train_dislike, X_test_dislike, y_train_dislike, y_test_dislike = train_test_split(\n",
    "    dislike_samples, [i for i in labels if i == 1] , \n",
    "    train_size = train_dislike_size)\n",
    "\n",
    "# Combine the selected samples to form the train and test sets\n",
    "X_train = np.concatenate((X_train_like, X_train_dislike))\n",
    "X_test = np.concatenate((X_test_like, X_test_dislike))\n",
    "y_train = np.concatenate((y_train_like, y_train_dislike))\n",
    "y_test = np.concatenate((y_test_like, y_test_dislike))\n",
    "\n"
   ]
  },
  {
   "cell_type": "code",
   "execution_count": 11,
   "id": "c4b1e520",
   "metadata": {},
   "outputs": [],
   "source": [
    "# X_train = np.concatenate((like_samples[41:], dislike_samples[42:]))\n",
    "# X_test = np.concatenate((like_samples[:41], dislike_samples[:42]))\n",
    "# y_train = np.concatenate(([0]*420, [1] * 542))\n",
    "# y_test = np.concatenate(([0]*41, [1] * 42))"
   ]
  },
  {
   "cell_type": "markdown",
   "id": "1b12a01d",
   "metadata": {},
   "source": [
    "# save train and test data"
   ]
  },
  {
   "cell_type": "code",
   "execution_count": 12,
   "id": "d630bdc0",
   "metadata": {},
   "outputs": [],
   "source": [
    "# np.save('training-testing-data/testing/test_data', X_test, allow_pickle=True, fix_imports=True)\n",
    "# np.save('training-testing-data/testing/test_label', y_test, allow_pickle=True, fix_imports=True)\n",
    "\n",
    "# np.save('training-testing-data/training/train_data', X_train, allow_pickle=True, fix_imports=True)\n",
    "# np.save('training-testing-data/training/train_label', y_train, allow_pickle=True, fix_imports=True)\n"
   ]
  },
  {
   "cell_type": "code",
   "execution_count": 13,
   "id": "e481515f",
   "metadata": {},
   "outputs": [],
   "source": [
    "# Set input shape for CNN\n",
    "\n",
    "input_shape = (512,14,1)\n",
    "\n",
    "# Define CNN model architecture\n",
    "model = Sequential()\n",
    "\n",
    "model.add(layers.Conv2D(32, kernel_size=(3, 3), activation='relu' , input_shape = input_shape))\n",
    "model.add(layers.BatchNormalization())\n",
    "model.add(MaxPooling2D(pool_size=(2, 2)))\n",
    "\n",
    "model.add(layers.Conv2D(32, kernel_size=(3, 3), activation='relu'))\n",
    "model.add(layers.BatchNormalization())\n",
    "model.add(MaxPooling2D(pool_size=(2, 2)))\n",
    "\n",
    "\n",
    "# model.add(layers.Conv2D(64, kernel_size=(3, 3), activation='relu'))\n",
    "# model.add(MaxPooling2D(pool_size=(2, 2)))\n",
    "model.add(Dropout(0.3))\n",
    "\n",
    "model.add(Flatten())\n",
    "\n",
    "# model.add(Dropout(0.3))\n",
    "# model.add(Dense(164, activation='relu'))\n",
    "# model.add(Dropout(0.3))\n",
    "\n",
    "# model.add(Dense(164, activation='relu'))\n",
    "# model.add(Dropout(0.3))\n",
    "\n",
    "model.add(Dense(164, activation='relu'))\n",
    "model.add(Dropout(0.3))\n",
    "\n",
    "model.add(Dense(2, activation='softmax'))\n",
    "# model.add(Dense(uni(ts=1, activation='sigmoid'))"
   ]
  },
  {
   "cell_type": "code",
   "execution_count": 14,
   "id": "701ef020",
   "metadata": {},
   "outputs": [],
   "source": [
    "\n",
    "model.compile(keras.optimizers.Adam(learning_rate = 0.0001),\n",
    "              loss='sparse_categorical_crossentropy',\n",
    "              metrics=['accuracy'])"
   ]
  },
  {
   "cell_type": "code",
   "execution_count": 15,
   "id": "5e3561eb",
   "metadata": {
    "scrolled": true
   },
   "outputs": [
    {
     "name": "stdout",
     "output_type": "stream",
     "text": [
      "Epoch 1/50\n",
      "46/46 [==============================] - 5s 97ms/step - loss: 1.3696 - accuracy: 0.5507\n",
      "Epoch 2/50\n",
      "46/46 [==============================] - 5s 100ms/step - loss: 0.6663 - accuracy: 0.6849\n",
      "Epoch 3/50\n",
      "46/46 [==============================] - 4s 86ms/step - loss: 0.4456 - accuracy: 0.7877\n",
      "Epoch 4/50\n",
      "46/46 [==============================] - 4s 86ms/step - loss: 0.3863 - accuracy: 0.8288\n",
      "Epoch 5/50\n",
      "46/46 [==============================] - 4s 85ms/step - loss: 0.2638 - accuracy: 0.8890\n",
      "Epoch 6/50\n",
      "46/46 [==============================] - 4s 87ms/step - loss: 0.2209 - accuracy: 0.9164\n",
      "Epoch 7/50\n",
      "46/46 [==============================] - 4s 86ms/step - loss: 0.1533 - accuracy: 0.9411\n",
      "Epoch 8/50\n",
      "46/46 [==============================] - 4s 87ms/step - loss: 0.1548 - accuracy: 0.9397\n",
      "Epoch 9/50\n",
      "46/46 [==============================] - 5s 99ms/step - loss: 0.1252 - accuracy: 0.9562\n",
      "Epoch 10/50\n",
      "46/46 [==============================] - 5s 119ms/step - loss: 0.1180 - accuracy: 0.9589\n",
      "Epoch 11/50\n",
      "46/46 [==============================] - 5s 103ms/step - loss: 0.0851 - accuracy: 0.9712\n",
      "Epoch 12/50\n",
      "46/46 [==============================] - 5s 118ms/step - loss: 0.0897 - accuracy: 0.9685\n",
      "Epoch 13/50\n",
      "46/46 [==============================] - 5s 115ms/step - loss: 0.0598 - accuracy: 0.9877\n",
      "Epoch 14/50\n",
      "46/46 [==============================] - 5s 101ms/step - loss: 0.0577 - accuracy: 0.9808\n",
      "Epoch 15/50\n",
      "46/46 [==============================] - 5s 104ms/step - loss: 0.0531 - accuracy: 0.9877\n",
      "Epoch 16/50\n",
      "46/46 [==============================] - 5s 110ms/step - loss: 0.0380 - accuracy: 0.9918\n",
      "Epoch 17/50\n",
      "46/46 [==============================] - 5s 109ms/step - loss: 0.0427 - accuracy: 0.9890\n",
      "Epoch 18/50\n",
      "46/46 [==============================] - 6s 122ms/step - loss: 0.0351 - accuracy: 0.9945\n",
      "Epoch 19/50\n",
      "46/46 [==============================] - 5s 112ms/step - loss: 0.0317 - accuracy: 0.9918\n",
      "Epoch 20/50\n",
      "46/46 [==============================] - 5s 111ms/step - loss: 0.0289 - accuracy: 0.9904\n",
      "Epoch 21/50\n",
      "46/46 [==============================] - 5s 101ms/step - loss: 0.0235 - accuracy: 0.9945\n",
      "Epoch 22/50\n",
      "46/46 [==============================] - 5s 109ms/step - loss: 0.0265 - accuracy: 0.9918\n",
      "Epoch 23/50\n",
      "46/46 [==============================] - 5s 110ms/step - loss: 0.0165 - accuracy: 0.9973\n",
      "Epoch 24/50\n",
      "46/46 [==============================] - 5s 102ms/step - loss: 0.0280 - accuracy: 0.9945\n",
      "Epoch 25/50\n",
      "46/46 [==============================] - 5s 103ms/step - loss: 0.0179 - accuracy: 0.9959\n",
      "Epoch 26/50\n",
      "46/46 [==============================] - 5s 104ms/step - loss: 0.0172 - accuracy: 0.9959\n",
      "Epoch 27/50\n",
      "46/46 [==============================] - 5s 101ms/step - loss: 0.0198 - accuracy: 0.9959\n",
      "Epoch 28/50\n",
      "46/46 [==============================] - 5s 103ms/step - loss: 0.0291 - accuracy: 0.9932\n",
      "Epoch 29/50\n",
      "46/46 [==============================] - 5s 113ms/step - loss: 0.0203 - accuracy: 0.9945\n",
      "Epoch 30/50\n",
      "46/46 [==============================] - 6s 122ms/step - loss: 0.0112 - accuracy: 0.9986\n",
      "Epoch 31/50\n",
      "46/46 [==============================] - 5s 106ms/step - loss: 0.0164 - accuracy: 0.9973\n",
      "Epoch 32/50\n",
      "46/46 [==============================] - 5s 104ms/step - loss: 0.0141 - accuracy: 0.9986\n",
      "Epoch 33/50\n",
      "46/46 [==============================] - 5s 104ms/step - loss: 0.0195 - accuracy: 0.9932\n",
      "Epoch 34/50\n",
      "46/46 [==============================] - 5s 110ms/step - loss: 0.0141 - accuracy: 0.9973\n",
      "Epoch 35/50\n",
      "46/46 [==============================] - 5s 104ms/step - loss: 0.0137 - accuracy: 0.9959\n",
      "Epoch 36/50\n",
      "46/46 [==============================] - 5s 107ms/step - loss: 0.0092 - accuracy: 1.0000\n",
      "Epoch 37/50\n",
      "46/46 [==============================] - 5s 106ms/step - loss: 0.0099 - accuracy: 0.9986\n",
      "Epoch 38/50\n",
      "46/46 [==============================] - 5s 104ms/step - loss: 0.0116 - accuracy: 0.9973\n",
      "Epoch 39/50\n",
      "46/46 [==============================] - 5s 105ms/step - loss: 0.0080 - accuracy: 0.9986\n",
      "Epoch 40/50\n",
      "46/46 [==============================] - 5s 111ms/step - loss: 0.0092 - accuracy: 0.9986\n",
      "Epoch 41/50\n",
      "46/46 [==============================] - 6s 120ms/step - loss: 0.0084 - accuracy: 0.9986\n",
      "Epoch 42/50\n",
      "46/46 [==============================] - 4s 93ms/step - loss: 0.0082 - accuracy: 0.9986\n",
      "Epoch 43/50\n",
      "46/46 [==============================] - 4s 97ms/step - loss: 0.0174 - accuracy: 0.9932\n",
      "Epoch 44/50\n",
      "46/46 [==============================] - 5s 101ms/step - loss: 0.0138 - accuracy: 0.9973\n",
      "Epoch 45/50\n",
      "46/46 [==============================] - 5s 113ms/step - loss: 0.0127 - accuracy: 0.9973\n",
      "Epoch 46/50\n",
      "46/46 [==============================] - 5s 103ms/step - loss: 0.0052 - accuracy: 0.9986\n",
      "Epoch 47/50\n",
      "46/46 [==============================] - 5s 108ms/step - loss: 0.0102 - accuracy: 0.9959\n",
      "Epoch 48/50\n",
      "46/46 [==============================] - 5s 107ms/step - loss: 0.0130 - accuracy: 0.9932\n",
      "Epoch 49/50\n",
      "46/46 [==============================] - 5s 104ms/step - loss: 0.0089 - accuracy: 0.9973\n",
      "Epoch 50/50\n",
      "46/46 [==============================] - 5s 104ms/step - loss: 0.0073 - accuracy: 1.0000\n"
     ]
    },
    {
     "data": {
      "text/plain": [
       "<keras.callbacks.History at 0x21fbeaac9d0>"
      ]
     },
     "execution_count": 15,
     "metadata": {},
     "output_type": "execute_result"
    }
   ],
   "source": [
    "model.fit(X_train , y_train , epochs = 50 , batch_size = 16)"
   ]
  },
  {
   "cell_type": "code",
   "execution_count": 25,
   "id": "957873c3",
   "metadata": {},
   "outputs": [
    {
     "name": "stdout",
     "output_type": "stream",
     "text": [
      "10/10 [==============================] - 0s 2ms/step - loss: 0.0000e+00 - accuracy: 0.0000e+00\n"
     ]
    },
    {
     "data": {
      "text/plain": [
       "[0.0, 0.0]"
      ]
     },
     "execution_count": 25,
     "metadata": {},
     "output_type": "execute_result"
    }
   ],
   "source": [
    "model.evaluate(X_test)"
   ]
  },
  {
   "cell_type": "code",
   "execution_count": 43,
   "id": "13dffdf4",
   "metadata": {},
   "outputs": [
    {
     "name": "stdout",
     "output_type": "stream",
     "text": [
      "Collecting foolbox\n",
      "  Downloading foolbox-3.3.3-py3-none-any.whl (1.7 MB)\n",
      "Requirement already satisfied: numpy in c:\\users\\lenovo\\anaconda3\\lib\\site-packages (from foolbox) (1.20.1)\n",
      "Collecting eagerpy>=0.30.0\n",
      "  Downloading eagerpy-0.30.0-py3-none-any.whl (31 kB)\n",
      "Requirement already satisfied: setuptools in c:\\users\\lenovo\\anaconda3\\lib\\site-packages (from foolbox) (52.0.0.post20210125)\n",
      "Requirement already satisfied: GitPython>=3.0.7 in c:\\users\\lenovo\\anaconda3\\lib\\site-packages (from foolbox) (3.1.31)\n",
      "Requirement already satisfied: scipy in c:\\users\\lenovo\\anaconda3\\lib\\site-packages (from foolbox) (1.6.2)\n",
      "Requirement already satisfied: typing-extensions>=3.7.4.1 in c:\\users\\lenovo\\anaconda3\\lib\\site-packages (from foolbox) (4.7.1)\n",
      "Requirement already satisfied: requests>=2.24.0 in c:\\users\\lenovo\\anaconda3\\lib\\site-packages (from foolbox) (2.25.1)\n",
      "Requirement already satisfied: gitdb<5,>=4.0.1 in c:\\users\\lenovo\\anaconda3\\lib\\site-packages (from GitPython>=3.0.7->foolbox) (4.0.10)\n",
      "Requirement already satisfied: smmap<6,>=3.0.1 in c:\\users\\lenovo\\anaconda3\\lib\\site-packages (from gitdb<5,>=4.0.1->GitPython>=3.0.7->foolbox) (5.0.0)\n",
      "Requirement already satisfied: urllib3<1.27,>=1.21.1 in c:\\users\\lenovo\\anaconda3\\lib\\site-packages (from requests>=2.24.0->foolbox) (1.26.4)\n",
      "Requirement already satisfied: idna<3,>=2.5 in c:\\users\\lenovo\\anaconda3\\lib\\site-packages (from requests>=2.24.0->foolbox) (2.10)\n",
      "Requirement already satisfied: certifi>=2017.4.17 in c:\\users\\lenovo\\anaconda3\\lib\\site-packages (from requests>=2.24.0->foolbox) (2020.12.5)\n",
      "Requirement already satisfied: chardet<5,>=3.0.2 in c:\\users\\lenovo\\anaconda3\\lib\\site-packages (from requests>=2.24.0->foolbox) (4.0.0)\n",
      "Installing collected packages: eagerpy, foolbox\n",
      "Successfully installed eagerpy-0.30.0 foolbox-3.3.3\n"
     ]
    }
   ],
   "source": [
    "!pip install foolbox"
   ]
  },
  {
   "cell_type": "code",
   "execution_count": 31,
   "id": "dadf2609",
   "metadata": {
    "scrolled": true
   },
   "outputs": [
    {
     "name": "stdout",
     "output_type": "stream",
     "text": [
      "1/1 [==============================] - 0s 25ms/step\n",
      "1/1 [==============================] - 0s 22ms/step\n",
      "1/1 [==============================] - 0s 22ms/step\n",
      "1/1 [==============================] - 0s 20ms/step\n",
      "1/1 [==============================] - 0s 21ms/step\n",
      "1/1 [==============================] - 0s 19ms/step\n",
      "1/1 [==============================] - 0s 20ms/step\n",
      "1/1 [==============================] - 0s 22ms/step\n",
      "1/1 [==============================] - 0s 20ms/step\n",
      "1/1 [==============================] - 0s 21ms/step\n",
      "1/1 [==============================] - 0s 20ms/step\n",
      "1/1 [==============================] - 0s 19ms/step\n",
      "1/1 [==============================] - 0s 20ms/step\n",
      "1/1 [==============================] - 0s 19ms/step\n",
      "1/1 [==============================] - 0s 20ms/step\n",
      "1/1 [==============================] - 0s 22ms/step\n",
      "1/1 [==============================] - 0s 19ms/step\n",
      "1/1 [==============================] - 0s 19ms/step\n",
      "1/1 [==============================] - 0s 20ms/step\n",
      "1/1 [==============================] - 0s 24ms/step\n",
      "1/1 [==============================] - 0s 21ms/step\n",
      "1/1 [==============================] - 0s 20ms/step\n",
      "1/1 [==============================] - 0s 21ms/step\n",
      "1/1 [==============================] - 0s 21ms/step\n",
      "1/1 [==============================] - 0s 19ms/step\n",
      "1/1 [==============================] - 0s 19ms/step\n",
      "1/1 [==============================] - 0s 19ms/step\n",
      "1/1 [==============================] - 0s 20ms/step\n",
      "1/1 [==============================] - 0s 20ms/step\n",
      "1/1 [==============================] - 0s 23ms/step\n",
      "1/1 [==============================] - 0s 24ms/step\n",
      "1/1 [==============================] - 0s 26ms/step\n",
      "1/1 [==============================] - 0s 26ms/step\n",
      "1/1 [==============================] - 0s 20ms/step\n",
      "1/1 [==============================] - 0s 20ms/step\n",
      "1/1 [==============================] - 0s 20ms/step\n",
      "1/1 [==============================] - 0s 26ms/step\n",
      "1/1 [==============================] - 0s 21ms/step\n",
      "1/1 [==============================] - 0s 21ms/step\n",
      "1/1 [==============================] - 0s 19ms/step\n",
      "1/1 [==============================] - 0s 25ms/step\n",
      "1/1 [==============================] - 0s 28ms/step\n",
      "1/1 [==============================] - 0s 22ms/step\n",
      "1/1 [==============================] - 0s 23ms/step\n",
      "1/1 [==============================] - 0s 25ms/step\n",
      "1/1 [==============================] - 0s 22ms/step\n",
      "1/1 [==============================] - 0s 24ms/step\n",
      "1/1 [==============================] - 0s 22ms/step\n",
      "1/1 [==============================] - 0s 23ms/step\n",
      "1/1 [==============================] - 0s 21ms/step\n",
      "1/1 [==============================] - 0s 22ms/step\n",
      "1/1 [==============================] - 0s 28ms/step\n",
      "1/1 [==============================] - 0s 27ms/step\n",
      "1/1 [==============================] - 0s 22ms/step\n",
      "1/1 [==============================] - 0s 19ms/step\n",
      "1/1 [==============================] - 0s 21ms/step\n",
      "1/1 [==============================] - 0s 22ms/step\n",
      "1/1 [==============================] - 0s 20ms/step\n",
      "1/1 [==============================] - 0s 20ms/step\n",
      "1/1 [==============================] - 0s 25ms/step\n",
      "1/1 [==============================] - 0s 19ms/step\n",
      "1/1 [==============================] - 0s 18ms/step\n",
      "1/1 [==============================] - 0s 22ms/step\n",
      "1/1 [==============================] - 0s 20ms/step\n",
      "1/1 [==============================] - 0s 21ms/step\n",
      "1/1 [==============================] - 0s 19ms/step\n",
      "1/1 [==============================] - 0s 21ms/step\n",
      "1/1 [==============================] - 0s 20ms/step\n",
      "1/1 [==============================] - 0s 19ms/step\n",
      "1/1 [==============================] - 0s 19ms/step\n",
      "1/1 [==============================] - 0s 23ms/step\n",
      "1/1 [==============================] - 0s 23ms/step\n",
      "1/1 [==============================] - 0s 27ms/step\n",
      "1/1 [==============================] - 0s 21ms/step\n",
      "1/1 [==============================] - 0s 20ms/step\n",
      "1/1 [==============================] - 0s 18ms/step\n",
      "1/1 [==============================] - 0s 19ms/step\n",
      "1/1 [==============================] - 0s 29ms/step\n",
      "1/1 [==============================] - 0s 29ms/step\n",
      "1/1 [==============================] - 0s 32ms/step\n",
      "1/1 [==============================] - 0s 25ms/step\n",
      "1/1 [==============================] - 0s 19ms/step\n",
      "1/1 [==============================] - 0s 22ms/step\n",
      "1/1 [==============================] - 0s 24ms/step\n",
      "1/1 [==============================] - 0s 20ms/step\n",
      "1/1 [==============================] - 0s 23ms/step\n",
      "1/1 [==============================] - 0s 24ms/step\n",
      "1/1 [==============================] - 0s 22ms/step\n",
      "1/1 [==============================] - 0s 21ms/step\n",
      "1/1 [==============================] - 0s 23ms/step\n",
      "1/1 [==============================] - 0s 22ms/step\n",
      "1/1 [==============================] - 0s 22ms/step\n",
      "1/1 [==============================] - 0s 21ms/step\n",
      "1/1 [==============================] - 0s 23ms/step\n",
      "1/1 [==============================] - 0s 21ms/step\n",
      "1/1 [==============================] - 0s 24ms/step\n",
      "1/1 [==============================] - 0s 23ms/step\n",
      "1/1 [==============================] - 0s 22ms/step\n",
      "1/1 [==============================] - 0s 27ms/step\n",
      "1/1 [==============================] - 0s 24ms/step\n",
      "1/1 [==============================] - 0s 21ms/step\n",
      "1/1 [==============================] - 0s 21ms/step\n",
      "1/1 [==============================] - 0s 26ms/step\n",
      "1/1 [==============================] - 0s 27ms/step\n",
      "1/1 [==============================] - 0s 24ms/step\n",
      "1/1 [==============================] - 0s 19ms/step\n",
      "1/1 [==============================] - 0s 19ms/step\n",
      "1/1 [==============================] - 0s 21ms/step\n",
      "1/1 [==============================] - 0s 20ms/step\n",
      "1/1 [==============================] - 0s 20ms/step\n",
      "1/1 [==============================] - 0s 22ms/step\n",
      "1/1 [==============================] - 0s 25ms/step\n",
      "1/1 [==============================] - 0s 20ms/step\n",
      "1/1 [==============================] - 0s 20ms/step\n",
      "1/1 [==============================] - 0s 23ms/step\n",
      "1/1 [==============================] - 0s 19ms/step\n",
      "1/1 [==============================] - 0s 20ms/step\n",
      "1/1 [==============================] - 0s 22ms/step\n",
      "1/1 [==============================] - 0s 20ms/step\n",
      "1/1 [==============================] - 0s 19ms/step\n",
      "1/1 [==============================] - 0s 20ms/step\n",
      "1/1 [==============================] - 0s 19ms/step\n",
      "1/1 [==============================] - 0s 20ms/step\n",
      "1/1 [==============================] - 0s 18ms/step\n",
      "1/1 [==============================] - 0s 26ms/step\n",
      "1/1 [==============================] - 0s 19ms/step\n",
      "1/1 [==============================] - 0s 20ms/step\n",
      "1/1 [==============================] - 0s 22ms/step\n",
      "1/1 [==============================] - 0s 20ms/step\n",
      "1/1 [==============================] - 0s 19ms/step\n",
      "1/1 [==============================] - 0s 22ms/step\n",
      "1/1 [==============================] - 0s 21ms/step\n",
      "1/1 [==============================] - 0s 19ms/step\n",
      "1/1 [==============================] - 0s 19ms/step\n",
      "1/1 [==============================] - 0s 19ms/step\n",
      "1/1 [==============================] - 0s 21ms/step\n",
      "1/1 [==============================] - 0s 19ms/step\n",
      "1/1 [==============================] - 0s 20ms/step\n",
      "1/1 [==============================] - 0s 20ms/step\n",
      "1/1 [==============================] - 0s 21ms/step\n",
      "1/1 [==============================] - 0s 19ms/step\n",
      "1/1 [==============================] - 0s 20ms/step\n",
      "1/1 [==============================] - 0s 26ms/step\n",
      "1/1 [==============================] - 0s 19ms/step\n",
      "1/1 [==============================] - 0s 19ms/step\n",
      "1/1 [==============================] - 0s 20ms/step\n",
      "1/1 [==============================] - 0s 19ms/step\n",
      "1/1 [==============================] - 0s 22ms/step\n",
      "1/1 [==============================] - 0s 20ms/step\n",
      "1/1 [==============================] - 0s 20ms/step\n",
      "1/1 [==============================] - 0s 20ms/step\n",
      "1/1 [==============================] - 0s 20ms/step\n",
      "1/1 [==============================] - 0s 19ms/step\n",
      "1/1 [==============================] - 0s 22ms/step\n",
      "1/1 [==============================] - 0s 18ms/step\n",
      "1/1 [==============================] - 0s 18ms/step\n",
      "1/1 [==============================] - 0s 20ms/step\n",
      "1/1 [==============================] - 0s 20ms/step\n",
      "1/1 [==============================] - 0s 18ms/step\n",
      "1/1 [==============================] - 0s 19ms/step\n",
      "1/1 [==============================] - 0s 19ms/step\n",
      "1/1 [==============================] - 0s 19ms/step\n",
      "1/1 [==============================] - 0s 20ms/step\n",
      "1/1 [==============================] - 0s 20ms/step\n",
      "1/1 [==============================] - 0s 19ms/step\n",
      "1/1 [==============================] - 0s 19ms/step\n",
      "1/1 [==============================] - 0s 19ms/step\n",
      "1/1 [==============================] - 0s 19ms/step\n",
      "1/1 [==============================] - 0s 19ms/step\n",
      "1/1 [==============================] - 0s 19ms/step\n",
      "1/1 [==============================] - 0s 19ms/step\n",
      "1/1 [==============================] - 0s 20ms/step\n",
      "1/1 [==============================] - 0s 20ms/step\n",
      "1/1 [==============================] - 0s 20ms/step\n",
      "1/1 [==============================] - 0s 19ms/step\n",
      "1/1 [==============================] - 0s 20ms/step\n",
      "1/1 [==============================] - 0s 20ms/step\n",
      "1/1 [==============================] - 0s 19ms/step\n",
      "1/1 [==============================] - 0s 20ms/step\n",
      "1/1 [==============================] - 0s 19ms/step\n",
      "1/1 [==============================] - 0s 18ms/step\n",
      "1/1 [==============================] - 0s 18ms/step\n",
      "1/1 [==============================] - 0s 18ms/step\n",
      "1/1 [==============================] - 0s 20ms/step\n",
      "1/1 [==============================] - 0s 20ms/step\n",
      "1/1 [==============================] - 0s 19ms/step\n",
      "1/1 [==============================] - 0s 19ms/step\n",
      "1/1 [==============================] - 0s 21ms/step\n",
      "1/1 [==============================] - 0s 19ms/step\n",
      "1/1 [==============================] - 0s 19ms/step\n",
      "1/1 [==============================] - 0s 20ms/step\n",
      "1/1 [==============================] - 0s 18ms/step\n",
      "1/1 [==============================] - 0s 18ms/step\n",
      "1/1 [==============================] - 0s 22ms/step\n",
      "1/1 [==============================] - 0s 19ms/step\n",
      "1/1 [==============================] - 0s 20ms/step\n",
      "1/1 [==============================] - 0s 22ms/step\n",
      "1/1 [==============================] - 0s 18ms/step\n",
      "1/1 [==============================] - 0s 19ms/step\n",
      "1/1 [==============================] - 0s 18ms/step\n",
      "1/1 [==============================] - 0s 19ms/step\n",
      "1/1 [==============================] - 0s 19ms/step\n",
      "1/1 [==============================] - 0s 20ms/step\n",
      "1/1 [==============================] - 0s 19ms/step\n",
      "1/1 [==============================] - 0s 19ms/step\n",
      "1/1 [==============================] - 0s 20ms/step\n",
      "1/1 [==============================] - 0s 19ms/step\n",
      "1/1 [==============================] - 0s 18ms/step\n",
      "1/1 [==============================] - 0s 19ms/step\n",
      "1/1 [==============================] - 0s 18ms/step\n",
      "1/1 [==============================] - 0s 19ms/step\n",
      "1/1 [==============================] - 0s 22ms/step\n",
      "1/1 [==============================] - 0s 21ms/step\n",
      "1/1 [==============================] - 0s 26ms/step\n",
      "1/1 [==============================] - 0s 26ms/step\n",
      "1/1 [==============================] - 0s 24ms/step\n",
      "1/1 [==============================] - 0s 22ms/step\n",
      "1/1 [==============================] - 0s 26ms/step\n",
      "1/1 [==============================] - 0s 23ms/step\n",
      "1/1 [==============================] - 0s 22ms/step\n",
      "1/1 [==============================] - 0s 22ms/step\n",
      "1/1 [==============================] - 0s 23ms/step\n",
      "1/1 [==============================] - 0s 21ms/step\n",
      "1/1 [==============================] - 0s 22ms/step\n",
      "1/1 [==============================] - 0s 24ms/step\n",
      "1/1 [==============================] - 0s 19ms/step\n",
      "1/1 [==============================] - 0s 19ms/step\n",
      "1/1 [==============================] - 0s 23ms/step\n",
      "1/1 [==============================] - 0s 19ms/step\n",
      "1/1 [==============================] - 0s 22ms/step\n",
      "1/1 [==============================] - 0s 24ms/step\n",
      "1/1 [==============================] - 0s 20ms/step\n",
      "1/1 [==============================] - 0s 22ms/step\n",
      "1/1 [==============================] - 0s 19ms/step\n",
      "1/1 [==============================] - 0s 18ms/step\n",
      "1/1 [==============================] - 0s 21ms/step\n",
      "1/1 [==============================] - 0s 20ms/step\n",
      "1/1 [==============================] - 0s 19ms/step\n",
      "1/1 [==============================] - 0s 21ms/step\n",
      "1/1 [==============================] - 0s 18ms/step\n",
      "1/1 [==============================] - 0s 22ms/step\n",
      "1/1 [==============================] - 0s 26ms/step\n",
      "1/1 [==============================] - 0s 23ms/step\n",
      "1/1 [==============================] - 0s 22ms/step\n",
      "1/1 [==============================] - 0s 21ms/step\n",
      "1/1 [==============================] - 0s 21ms/step\n",
      "1/1 [==============================] - 0s 21ms/step\n",
      "1/1 [==============================] - 0s 21ms/step\n",
      "1/1 [==============================] - 0s 21ms/step\n",
      "1/1 [==============================] - 0s 26ms/step\n",
      "1/1 [==============================] - 0s 22ms/step\n",
      "1/1 [==============================] - 0s 21ms/step\n",
      "1/1 [==============================] - 0s 22ms/step\n",
      "1/1 [==============================] - 0s 21ms/step\n",
      "1/1 [==============================] - 0s 24ms/step\n",
      "1/1 [==============================] - 0s 20ms/step\n",
      "1/1 [==============================] - 0s 21ms/step\n",
      "1/1 [==============================] - 0s 22ms/step\n",
      "1/1 [==============================] - 0s 22ms/step\n",
      "1/1 [==============================] - 0s 22ms/step\n",
      "1/1 [==============================] - 0s 24ms/step\n",
      "1/1 [==============================] - 0s 24ms/step\n",
      "1/1 [==============================] - 0s 20ms/step\n",
      "1/1 [==============================] - 0s 22ms/step\n",
      "1/1 [==============================] - 0s 26ms/step\n",
      "1/1 [==============================] - 0s 21ms/step\n",
      "1/1 [==============================] - 0s 20ms/step\n",
      "1/1 [==============================] - 0s 22ms/step\n",
      "1/1 [==============================] - 0s 22ms/step\n",
      "1/1 [==============================] - 0s 22ms/step\n",
      "1/1 [==============================] - 0s 23ms/step\n",
      "1/1 [==============================] - 0s 24ms/step\n",
      "1/1 [==============================] - 0s 24ms/step\n",
      "1/1 [==============================] - 0s 24ms/step\n",
      "1/1 [==============================] - 0s 22ms/step\n",
      "1/1 [==============================] - 0s 22ms/step\n",
      "1/1 [==============================] - 0s 23ms/step\n",
      "1/1 [==============================] - 0s 23ms/step\n",
      "1/1 [==============================] - 0s 20ms/step\n",
      "1/1 [==============================] - 0s 25ms/step\n",
      "1/1 [==============================] - 0s 20ms/step\n",
      "1/1 [==============================] - 0s 26ms/step\n",
      "1/1 [==============================] - 0s 24ms/step\n",
      "1/1 [==============================] - 0s 25ms/step\n",
      "1/1 [==============================] - 0s 20ms/step\n",
      "1/1 [==============================] - 0s 22ms/step\n",
      "1/1 [==============================] - 0s 22ms/step\n",
      "1/1 [==============================] - 0s 22ms/step\n",
      "1/1 [==============================] - 0s 33ms/step\n",
      "1/1 [==============================] - 0s 24ms/step\n",
      "1/1 [==============================] - 0s 23ms/step\n",
      "1/1 [==============================] - 0s 21ms/step\n",
      "1/1 [==============================] - 0s 22ms/step\n",
      "1/1 [==============================] - 0s 18ms/step\n",
      "1/1 [==============================] - 0s 18ms/step\n",
      "1/1 [==============================] - 0s 34ms/step\n",
      "1/1 [==============================] - 0s 21ms/step\n",
      "1/1 [==============================] - 0s 21ms/step\n",
      "1/1 [==============================] - 0s 25ms/step\n",
      "1/1 [==============================] - 0s 21ms/step\n",
      "1/1 [==============================] - 0s 23ms/step\n",
      "1/1 [==============================] - 0s 24ms/step\n",
      "1/1 [==============================] - 0s 26ms/step\n",
      "1/1 [==============================] - 0s 24ms/step\n",
      "1/1 [==============================] - 0s 23ms/step\n",
      "1/1 [==============================] - 0s 24ms/step\n",
      "1/1 [==============================] - 0s 25ms/step\n",
      "1/1 [==============================] - 0s 22ms/step\n",
      "1/1 [==============================] - 0s 29ms/step\n",
      "1/1 [==============================] - 0s 26ms/step\n",
      "1/1 [==============================] - 0s 22ms/step\n",
      "1/1 [==============================] - 0s 23ms/step\n",
      "1/1 [==============================] - 0s 22ms/step\n",
      "1/1 [==============================] - 0s 26ms/step\n"
     ]
    },
    {
     "name": "stdout",
     "output_type": "stream",
     "text": [
      "1/1 [==============================] - ETA: 0s\b\b\b\b\b\b\b\b\b\b\b\b\b\b\b\b\b\b\b\b\b\b\b\b\b\b\b\b\b\b\b\b\b\b\b\b\b\b\b\b\b\b\b\b\b\b\r",
      "1/1 [==============================] - 0s 24ms/step\n"
     ]
    }
   ],
   "source": [
    "y_pred=[]\n",
    "\n",
    "for data in X_test:\n",
    "    y_pred.append(np.argmax(model.predict(np.array([data , ]))))"
   ]
  },
  {
   "cell_type": "markdown",
   "id": "a83e9a12",
   "metadata": {},
   "source": [
    "# evaluate Model"
   ]
  },
  {
   "cell_type": "code",
   "execution_count": 32,
   "id": "529aa9a1",
   "metadata": {},
   "outputs": [],
   "source": [
    "import seaborn as sns\n",
    "from sklearn.metrics import confusion_matrix \n",
    "import matplotlib.pyplot as plt"
   ]
  },
  {
   "cell_type": "code",
   "execution_count": 33,
   "id": "5ee792d7",
   "metadata": {},
   "outputs": [
    {
     "data": {
      "image/png": "[encoded data removed]",
      "text/plain": [
       "<Figure size 432x288 with 2 Axes>"
      ]
     },
     "metadata": {
      "needs_background": "light"
     },
     "output_type": "display_data"
    }
   ],
   "source": [
    "cm = confusion_matrix(y_test,y_pred)\n",
    " \n",
    "#Plot the confusion matrix.\n",
    "sns.heatmap(cm,\n",
    "            annot=True,\n",
    "            fmt='g',\n",
    "            xticklabels=['Like','Dislike'],\n",
    "            yticklabels=['Like','Dislike'])\n",
    "plt.ylabel('Prediction',fontsize=13)\n",
    "plt.xlabel('Actual',fontsize=13)\n",
    "plt.title('Confusion Matrix',fontsize=17)\n",
    "plt.show()"
   ]
  },
  {
   "cell_type": "code",
   "execution_count": 34,
   "id": "b8b69d80",
   "metadata": {},
   "outputs": [],
   "source": [
    "accuaracy = (cm[0][0] + cm[1][1]) / X_test.shape[0] *100\n",
    "recall = (cm[0][0]) /(cm[0][0] + cm[1][0]) *100\n",
    "precision = (cm[0][0]) /(cm[0][0] + cm[0][1]) *100\n",
    "f1_score = (2*recall*precision)/(recall + precision)"
   ]
  },
  {
   "cell_type": "code",
   "execution_count": 35,
   "id": "8c186422",
   "metadata": {},
   "outputs": [
    {
     "name": "stdout",
     "output_type": "stream",
     "text": [
      "Accuracy:  75.55555555555556\n",
      "Precision:  70.50359712230215\n",
      "Recall:  73.13432835820896\n",
      "F1 SCore:  71.7948717948718\n"
     ]
    }
   ],
   "source": [
    "print('Accuracy: ' , accuaracy)\n",
    "print('Precision: ' , precision)\n",
    "print('Recall: ' , recall)\n",
    "print('F1 SCore: ' , f1_score)"
   ]
  },
  {
   "cell_type": "markdown",
   "id": "2aee3647",
   "metadata": {},
   "source": [
    "# save model"
   ]
  },
  {
   "cell_type": "code",
   "execution_count": 21,
   "id": "7c204219",
   "metadata": {},
   "outputs": [
    {
     "name": "stderr",
     "output_type": "stream",
     "text": [
      "WARNING:absl:Found untraced functions such as _jit_compiled_convolution_op, _jit_compiled_convolution_op while saving (showing 2 of 2). These functions will not be directly callable after loading.\n"
     ]
    },
    {
     "name": "stdout",
     "output_type": "stream",
     "text": [
      "INFO:tensorflow:Assets written to: models/modified_data_single_fold\\assets\n"
     ]
    },
    {
     "name": "stderr",
     "output_type": "stream",
     "text": [
      "INFO:tensorflow:Assets written to: models/modified_data_single_fold\\assets\n"
     ]
    }
   ],
   "source": [
    "model.save('models/modified_data_single_fold')"
   ]
  },
  {
   "cell_type": "markdown",
   "id": "2e566df1",
   "metadata": {},
   "source": [
    "# load model"
   ]
  },
  {
   "cell_type": "code",
   "execution_count": 56,
   "id": "40261e8f",
   "metadata": {},
   "outputs": [],
   "source": [
    "model = tf.keras.models.load_model('models/modified_data_single_fold//')\n",
    "\n",
    "# Check its architecture\n",
    "# new_model.summary()"
   ]
  },
  {
   "cell_type": "code",
   "execution_count": 66,
   "id": "cd321bd9",
   "metadata": {},
   "outputs": [
    {
     "name": "stdout",
     "output_type": "stream",
     "text": [
      "33/33 [==============================] - 1s 44ms/step - loss: 0.2383 - accuracy: 0.9263\n"
     ]
    },
    {
     "data": {
      "text/plain": [
       "[0.23828691244125366, 0.9263157844543457]"
      ]
     },
     "execution_count": 66,
     "metadata": {},
     "output_type": "execute_result"
    }
   ],
   "source": [
    "# model.evaluate((np.concatenate((X_train,X_test))),np.concatenate((y_train,y_test)))\n",
    "model.evaluate(samples,labels)"
   ]
  },
  {
   "cell_type": "code",
   "execution_count": 68,
   "id": "1e242004",
   "metadata": {},
   "outputs": [
    {
     "ename": "AssertionError",
     "evalue": "",
     "output_type": "error",
     "traceback": [
      "\u001b[1;31m---------------------------------------------------------------------------\u001b[0m",
      "\u001b[1;31mAssertionError\u001b[0m                            Traceback (most recent call last)",
      "\u001b[1;32m<ipython-input-68-f60fae1a43d8>\u001b[0m in \u001b[0;36m<module>\u001b[1;34m\u001b[0m\n\u001b[0;32m     15\u001b[0m \u001b[1;33m\u001b[0m\u001b[0m\n\u001b[0;32m     16\u001b[0m \u001b[1;31m# Generate adversarial examples\u001b[0m\u001b[1;33m\u001b[0m\u001b[1;33m\u001b[0m\u001b[1;33m\u001b[0m\u001b[0m\n\u001b[1;32m---> 17\u001b[1;33m \u001b[0madversarials\u001b[0m \u001b[1;33m=\u001b[0m \u001b[0mattack\u001b[0m\u001b[1;33m(\u001b[0m\u001b[0mfmodel\u001b[0m\u001b[1;33m,\u001b[0m\u001b[0msamples\u001b[0m\u001b[1;33m,\u001b[0m \u001b[0mlabels\u001b[0m\u001b[1;33m,\u001b[0m \u001b[0mepsilons\u001b[0m\u001b[1;33m=\u001b[0m\u001b[0mepsilons\u001b[0m\u001b[1;33m)\u001b[0m\u001b[1;33m\u001b[0m\u001b[1;33m\u001b[0m\u001b[0m\n\u001b[0m\u001b[0;32m     18\u001b[0m \u001b[1;33m\u001b[0m\u001b[0m\n\u001b[0;32m     19\u001b[0m \u001b[1;31m# Evaluate the attack success\u001b[0m\u001b[1;33m\u001b[0m\u001b[1;33m\u001b[0m\u001b[1;33m\u001b[0m\u001b[0m\n",
      "\u001b[1;32m~\\anaconda3\\lib\\site-packages\\foolbox\\attacks\\base.py\u001b[0m in \u001b[0;36m__call__\u001b[1;34m(***failed resolving arguments***)\u001b[0m\n\u001b[0;32m    255\u001b[0m         \u001b[1;32mdel\u001b[0m \u001b[0minputs\u001b[0m\u001b[1;33m\u001b[0m\u001b[1;33m\u001b[0m\u001b[0m\n\u001b[0;32m    256\u001b[0m \u001b[1;33m\u001b[0m\u001b[0m\n\u001b[1;32m--> 257\u001b[1;33m         \u001b[0mverify_input_bounds\u001b[0m\u001b[1;33m(\u001b[0m\u001b[0mx\u001b[0m\u001b[1;33m,\u001b[0m \u001b[0mmodel\u001b[0m\u001b[1;33m)\u001b[0m\u001b[1;33m\u001b[0m\u001b[1;33m\u001b[0m\u001b[0m\n\u001b[0m\u001b[0;32m    258\u001b[0m \u001b[1;33m\u001b[0m\u001b[0m\n\u001b[0;32m    259\u001b[0m         \u001b[0mcriterion\u001b[0m \u001b[1;33m=\u001b[0m \u001b[0mget_criterion\u001b[0m\u001b[1;33m(\u001b[0m\u001b[0mcriterion\u001b[0m\u001b[1;33m)\u001b[0m\u001b[1;33m\u001b[0m\u001b[1;33m\u001b[0m\u001b[0m\n",
      "\u001b[1;32m~\\anaconda3\\lib\\site-packages\\foolbox\\attacks\\base.py\u001b[0m in \u001b[0;36mverify_input_bounds\u001b[1;34m(input, model)\u001b[0m\n\u001b[0;32m    496\u001b[0m \u001b[1;32mdef\u001b[0m \u001b[0mverify_input_bounds\u001b[0m\u001b[1;33m(\u001b[0m\u001b[0minput\u001b[0m\u001b[1;33m:\u001b[0m \u001b[0mep\u001b[0m\u001b[1;33m.\u001b[0m\u001b[0mTensor\u001b[0m\u001b[1;33m,\u001b[0m \u001b[0mmodel\u001b[0m\u001b[1;33m:\u001b[0m \u001b[0mModel\u001b[0m\u001b[1;33m)\u001b[0m \u001b[1;33m->\u001b[0m \u001b[1;32mNone\u001b[0m\u001b[1;33m:\u001b[0m\u001b[1;33m\u001b[0m\u001b[1;33m\u001b[0m\u001b[0m\n\u001b[0;32m    497\u001b[0m     \u001b[1;31m# verify that input to the attack lies within model's input bounds\u001b[0m\u001b[1;33m\u001b[0m\u001b[1;33m\u001b[0m\u001b[1;33m\u001b[0m\u001b[0m\n\u001b[1;32m--> 498\u001b[1;33m     \u001b[1;32massert\u001b[0m \u001b[0minput\u001b[0m\u001b[1;33m.\u001b[0m\u001b[0mmin\u001b[0m\u001b[1;33m(\u001b[0m\u001b[1;33m)\u001b[0m\u001b[1;33m.\u001b[0m\u001b[0mitem\u001b[0m\u001b[1;33m(\u001b[0m\u001b[1;33m)\u001b[0m \u001b[1;33m>=\u001b[0m \u001b[0mmodel\u001b[0m\u001b[1;33m.\u001b[0m\u001b[0mbounds\u001b[0m\u001b[1;33m.\u001b[0m\u001b[0mlower\u001b[0m\u001b[1;33m\u001b[0m\u001b[1;33m\u001b[0m\u001b[0m\n\u001b[0m\u001b[0;32m    499\u001b[0m     \u001b[1;32massert\u001b[0m \u001b[0minput\u001b[0m\u001b[1;33m.\u001b[0m\u001b[0mmax\u001b[0m\u001b[1;33m(\u001b[0m\u001b[1;33m)\u001b[0m\u001b[1;33m.\u001b[0m\u001b[0mitem\u001b[0m\u001b[1;33m(\u001b[0m\u001b[1;33m)\u001b[0m \u001b[1;33m<=\u001b[0m \u001b[0mmodel\u001b[0m\u001b[1;33m.\u001b[0m\u001b[0mbounds\u001b[0m\u001b[1;33m.\u001b[0m\u001b[0mupper\u001b[0m\u001b[1;33m\u001b[0m\u001b[1;33m\u001b[0m\u001b[0m\n",
      "\u001b[1;31mAssertionError\u001b[0m: "
     ]
    }
   ],
   "source": [
    "import tensorflow as tf\n",
    "import foolbox\n",
    "\n",
    "\n",
    "\n",
    "# Convert the TensorFlow model to a Foolbox model\n",
    "fmodel = foolbox.models.TensorFlowModel(model, bounds=(0, 255))\n",
    "#normalize samples\n",
    "samples = samples/255.0\n",
    "# Select the attack method (FGSM)\n",
    "attack = foolbox.attacks.FGSM()\n",
    "\n",
    "# Define the epsilon value for the attack\n",
    "epsilons = [0.1]  # Adjust the epsilon value based on your requirements\n",
    "\n",
    "# Generate adversarial examples\n",
    "adversarials = attack(fmodel,samples, labels, epsilons=epsilons)\n",
    "\n",
    "# Evaluate the attack success\n",
    "predictions = np.argmax(fmodel.predictions(adversarials), axis=1)\n",
    "accuracy = np.sum(predictions ==labels) / len(labels)\n",
    "print(\"Attack success rate: {:.2f}%\".format(accuracy * 100))\n"
   ]
  },
  {
   "cell_type": "code",
   "execution_count": 78,
   "id": "5a513ad7",
   "metadata": {},
   "outputs": [
    {
     "name": "stdout",
     "output_type": "stream",
     "text": [
      "Attack success rate: 55.89%\n"
     ]
    }
   ],
   "source": [
    "from art.attacks.evasion import FastGradientMethod\n",
    "from art.estimators.classification import TensorFlowV2Classifier\n",
    "\n",
    "\n",
    "\n",
    "# Create an ART classifier wrapper for the model\n",
    "classifier = TensorFlowV2Classifier(model=model, \n",
    "                                    input_shape=(512, 14, 1), \n",
    "                                    nb_classes=2, \n",
    "                                    loss_object=tf.keras.losses.SparseCategoricalCrossentropy())\n",
    "\n",
    "# Select the attack method (FGSM)\n",
    "attack = FastGradientMethod(estimator=classifier, eps=0.1)\n",
    "\n",
    "# Generate adversarial examples\n",
    "x_test_adv = attack.generate(samples)\n",
    "\n",
    "# Evaluate the attack success\n",
    "predictions = np.argmax(classifier.predict(x_test_adv), axis=1)\n",
    "accuracy = np.sum(predictions == labels) / len(labels)\n",
    "print(\"Attack success rate: {:.2f}%\".format(accuracy * 100))\n"
   ]
  },
  {
   "cell_type": "code",
   "execution_count": null,
   "id": "3c3dd261",
   "metadata": {},
   "outputs": [],
   "source": []
  }
 ],
 "metadata": {
  "kernelspec": {
   "display_name": "Python 3",
   "language": "python",
   "name": "python3"
  },
  "language_info": {
   "codemirror_mode": {
    "name": "ipython",
    "version": 3
   },
   "file_extension": ".py",
   "mimetype": "text/x-python",
   "name": "python",
   "nbconvert_exporter": "python",
   "pygments_lexer": "ipython3",
   "version": "3.8.8"
  }
 },
 "nbformat": 4,
 "nbformat_minor": 5
}
