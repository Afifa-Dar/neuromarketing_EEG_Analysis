{
 "cells": [
  {
   "cell_type": "code",
   "execution_count": 5,
   "id": "9c57247d",
   "metadata": {},
   "outputs": [],
   "source": [
    "import numpy as np\n",
    "import matplotlib.pyplot as plt\n",
    "import pandas as pd\n",
    "from scipy.signal import welch\n",
    "import scipy"
   ]
  },
  {
   "cell_type": "code",
   "execution_count": 6,
   "id": "116febbb",
   "metadata": {},
   "outputs": [],
   "source": [
    "channels = ['ch_'+str(i) for i in range(1,15)]"
   ]
  },
  {
   "cell_type": "code",
   "execution_count": 7,
   "id": "cf3b52d7",
   "metadata": {},
   "outputs": [],
   "source": [
    "def cal_psd(data):\n",
    "    eeg_channels = data.values.T  # Transpose the DataFrame to have channels in rows\n",
    "\n",
    "    # Define parameters for PSD calculation\n",
    "    window_size = 32  # Window size in seconds\n",
    "    window_overlap = 0.0039  # Window overlap in percentage\n",
    "\n",
    "    # Calculate PSD for each channel\n",
    "    psds = []\n",
    "    freqs = None\n",
    "\n",
    "    for channel in eeg_channels:\n",
    "        # Calculate PSD using Welch's method\n",
    "        f, psd = welch(channel, fs=128, window='hanning',\n",
    "                       nperseg=int(window_size * 128),\n",
    "                       noverlap=int(window_overlap * window_size * 128))\n",
    "        psds.append(psd)\n",
    "\n",
    "    # Convert PSDs to a numpy array\n",
    "    return np.array(psds)"
   ]
  },
  {
   "cell_type": "code",
   "execution_count": 8,
   "id": "e4d2881f",
   "metadata": {
    "scrolled": true
   },
   "outputs": [],
   "source": [
    "import os\n",
    "\n",
    "directory = \"clean_data\"   #one time clean other time normalize\n",
    "for filename in os.listdir(directory):\n",
    "    data = pd.read_csv(f'{directory}/{filename}')\n",
    "    label = data['label'][0]\n",
    "    data.drop(['label'] , axis = 1 , inplace = True)\n",
    "    psds = cal_psd(data).T\n",
    "    df = pd.DataFrame(psds , columns = channels)\n",
    "    df['label'] = label\n",
    "    df.to_csv(f'psd/{filename[:-4]}.csv',index = False)\n",
    "       "
   ]
  },
  {
   "cell_type": "code",
   "execution_count": null,
   "id": "bafe3338",
   "metadata": {},
   "outputs": [],
   "source": []
  },
  {
   "cell_type": "code",
   "execution_count": null,
   "id": "9e850065",
   "metadata": {},
   "outputs": [],
   "source": []
  }
 ],
 "metadata": {
  "kernelspec": {
   "display_name": "Python 3 (ipykernel)",
   "language": "python",
   "name": "python3"
  },
  "language_info": {
   "codemirror_mode": {
    "name": "ipython",
    "version": 3
   },
   "file_extension": ".py",
   "mimetype": "text/x-python",
   "name": "python",
   "nbconvert_exporter": "python",
   "pygments_lexer": "ipython3",
   "version": "3.9.7"
  }
 },
 "nbformat": 4,
 "nbformat_minor": 5
}
