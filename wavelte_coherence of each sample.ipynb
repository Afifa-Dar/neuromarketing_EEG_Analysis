{
 "cells": [
  {
   "cell_type": "code",
   "execution_count": 1,
   "id": "d91d1671",
   "metadata": {},
   "outputs": [
    {
     "name": "stderr",
     "output_type": "stream",
     "text": [
      "C:\\ProgramData\\Anaconda3\\lib\\site-packages\\scipy\\__init__.py:146: UserWarning: A NumPy version >=1.16.5 and <1.23.0 is required for this version of SciPy (detected version 1.24.3\n",
      "  warnings.warn(f\"A NumPy version >={np_minversion} and <{np_maxversion}\"\n"
     ]
    }
   ],
   "source": [
    "import pandas as pd\n",
    "import numpy as np\n",
    "import pywt\n",
    "import matplotlib.pyplot as plt\n"
   ]
  },
  {
   "cell_type": "code",
   "execution_count": 2,
   "id": "2b9d3485",
   "metadata": {},
   "outputs": [],
   "source": [
    "channels = [f'ch_{i}' for i in range(1,15)]"
   ]
  },
  {
   "cell_type": "code",
   "execution_count": 7,
   "id": "37cc768f",
   "metadata": {},
   "outputs": [],
   "source": [
    "def cal_wavelet_coherence(eeg_data):\n",
    "    # Assuming you have preprocessed EEG data: eeg_data with shape (num_channels, num_samples)\n",
    "\n",
    "    # Define wavelet parameters\n",
    "    wavelet = 'morl'\n",
    "    central_frequency = 30  # Choose an appropriate central frequency\n",
    "\n",
    "    # Perform wavelet transform for each channel\n",
    "    wavelet_coeffs = []\n",
    "    for channel_data in channels:\n",
    "\n",
    "        coeffs, _ = pywt.cwt(eeg_data[channel_data], np.arange(1, 45 + 1), wavelet)\n",
    "        wavelet_coeffs.append(coeffs)\n",
    "\n",
    "    wavelet_coeffs = np.array(wavelet_coeffs)  # Shape: (num_channels, num_scales, num_samples)\n",
    "\n",
    "    # Calculate wavelet coherence\n",
    "    num_channels = wavelet_coeffs.shape[0]\n",
    "    coherence_matrix = np.zeros((num_channels, num_channels))\n",
    "\n",
    "    for i in range(num_channels):\n",
    "        for j in range(i + 1, num_channels):\n",
    "            cross_spectrum = np.multiply(wavelet_coeffs[i], np.conj(wavelet_coeffs[j]))\n",
    "            coherence = np.abs(np.mean(cross_spectrum, axis=1)) ** 2 / (np.mean(np.abs(wavelet_coeffs[i]) ** 2, axis=1) \n",
    "                                                                        * np.mean(np.abs(wavelet_coeffs[j]) ** 2, axis=1))\n",
    "            coherence_matrix[i, j] = coherence_matrix[j, i] = np.mean(coherence)\n",
    "    return  coherence_matrix\n",
    "    # coherence_matrix now contains the wavelet coherence values between each pair of channels\n",
    "\n"
   ]
  },
  {
   "cell_type": "code",
   "execution_count": 9,
   "id": "5a972c83",
   "metadata": {},
   "outputs": [],
   "source": [
    "import os\n",
    "directory = \"clean_data/\"   #first normalize then clean\n",
    "for filename in os.listdir(directory):\n",
    "    data = pd.read_csv(f'{directory}/{filename}')\n",
    "    label = data['label'][0]\n",
    "    wav_coh = cal_wavelet_coherence(data.drop(['label'] , axis = 1))\n",
    "    wav_coh = pd.DataFrame(wav_coh)\n",
    "    wav_coh['label'] = label\n",
    "    wav_coh.to_csv(f'wavelete_cohrence/{filename[:-4]}.csv',index = False)"
   ]
  },
  {
   "cell_type": "code",
   "execution_count": null,
   "id": "462ee17e",
   "metadata": {},
   "outputs": [],
   "source": []
  }
 ],
 "metadata": {
  "kernelspec": {
   "display_name": "Python 3 (ipykernel)",
   "language": "python",
   "name": "python3"
  },
  "language_info": {
   "codemirror_mode": {
    "name": "ipython",
    "version": 3
   },
   "file_extension": ".py",
   "mimetype": "text/x-python",
   "name": "python",
   "nbconvert_exporter": "python",
   "pygments_lexer": "ipython3",
   "version": "3.9.7"
  }
 },
 "nbformat": 4,
 "nbformat_minor": 5
}
